{
  "nbformat": 4,
  "nbformat_minor": 0,
  "metadata": {
    "colab": {
      "name": "PDF Data Mining.ipynb",
      "provenance": [],
      "collapsed_sections": [],
      "authorship_tag": "ABX9TyPsL+cCf4zyAViqtkS7ZO52",
      "include_colab_link": true
    },
    "kernelspec": {
      "name": "python3",
      "display_name": "Python 3"
    }
  },
  "cells": [
    {
      "cell_type": "markdown",
      "metadata": {
        "id": "view-in-github",
        "colab_type": "text"
      },
      "source": [
        "<a href=\"https://colab.research.google.com/github/yakbu002/Data-Science-Portfolio-Projects/blob/master/PDF_Data_Mining.ipynb\" target=\"_parent\"><img src=\"https://colab.research.google.com/assets/colab-badge.svg\" alt=\"Open In Colab\"/></a>"
      ]
    },
    {
      "cell_type": "code",
      "metadata": {
        "id": "O7mh1yr9s2x7"
      },
      "source": [
        "# the library that I used to scrape the tabular data from pdf file. \r\n",
        "!pip install tabula-py"
      ],
      "execution_count": null,
      "outputs": []
    },
    {
      "cell_type": "code",
      "metadata": {
        "id": "Ccfwy1FzNr1_"
      },
      "source": [
        "# imports\r\n",
        "import tabula\r\n",
        "import pandas as pd\r\n",
        "import numpy as np"
      ],
      "execution_count": 2,
      "outputs": []
    },
    {
      "cell_type": "code",
      "metadata": {
        "id": "533XtKqEN95r"
      },
      "source": [
        "# I could not run this code on my own pc, but it run ok in google colab environment. \r\n",
        "# On my own pc I had error and had to run the document with very small chunks. \r\n",
        "\r\n",
        "# After getting familiar with the data I detected that relevant pages are in range 77 to 1270.\r\n",
        "# also for the area i did not want to get all the page, \r\n",
        "# the parameter 730 enables us to not get the end note part of each page.  \r\n",
        "\r\n",
        "df = tabula.read_pdf('SignatureCareProviderDirectory.pdf', area=(0,0,730,1000), pages=[x for x in range(78,1271)])"
      ],
      "execution_count": 4,
      "outputs": []
    },
    {
      "cell_type": "code",
      "metadata": {
        "colab": {
          "base_uri": "https://localhost:8080/"
        },
        "id": "YB2GJbbROKbc",
        "outputId": "e5ac3034-9ad0-4852-f2bf-74d270bfb8a9"
      },
      "source": [
        "#the lenght of the list that contains every page as an object. \r\n",
        "# yes this list holds every page as an object. \r\n",
        "# and it is 1193 page long.\r\n",
        "print(type(df))\r\n",
        "print(type(df[0]))\r\n",
        "print(len(df))"
      ],
      "execution_count": 30,
      "outputs": [
        {
          "output_type": "stream",
          "text": [
            "<class 'list'>\n",
            "<class 'pandas.core.frame.DataFrame'>\n",
            "1193\n"
          ],
          "name": "stdout"
        }
      ]
    },
    {
      "cell_type": "code",
      "metadata": {
        "colab": {
          "base_uri": "https://localhost:8080/",
          "height": 204
        },
        "id": "CYA0sfL7Oi8N",
        "outputId": "626a79c7-1ee6-4357-ab83-b0fd9a358875"
      },
      "source": [
        "# first page of the table. \r\n",
        "df[0].head()"
      ],
      "execution_count": 7,
      "outputs": [
        {
          "output_type": "execute_result",
          "data": {
            "text/html": [
              "<div>\n",
              "<style scoped>\n",
              "    .dataframe tbody tr th:only-of-type {\n",
              "        vertical-align: middle;\n",
              "    }\n",
              "\n",
              "    .dataframe tbody tr th {\n",
              "        vertical-align: top;\n",
              "    }\n",
              "\n",
              "    .dataframe thead th {\n",
              "        text-align: right;\n",
              "    }\n",
              "</style>\n",
              "<table border=\"1\" class=\"dataframe\">\n",
              "  <thead>\n",
              "    <tr style=\"text-align: right;\">\n",
              "      <th></th>\n",
              "      <th>Unnamed: 0</th>\n",
              "      <th>Unnamed: 1</th>\n",
              "      <th>Unnamed: 2</th>\n",
              "      <th>Participating Physicians List by State</th>\n",
              "      <th>Unnamed: 3</th>\n",
              "    </tr>\n",
              "  </thead>\n",
              "  <tbody>\n",
              "    <tr>\n",
              "      <th>0</th>\n",
              "      <td>Name Specialty</td>\n",
              "      <td>NaN</td>\n",
              "      <td>Address</td>\n",
              "      <td>City State Zip County</td>\n",
              "      <td>Phone</td>\n",
              "    </tr>\n",
              "    <tr>\n",
              "      <th>1</th>\n",
              "      <td>Illinois</td>\n",
              "      <td>NaN</td>\n",
              "      <td>NaN</td>\n",
              "      <td>NaN</td>\n",
              "      <td>NaN</td>\n",
              "    </tr>\n",
              "    <tr>\n",
              "      <th>2</th>\n",
              "      <td>Bisby, Donald C POD</td>\n",
              "      <td>NaN</td>\n",
              "      <td>NaN</td>\n",
              "      <td>NaN</td>\n",
              "      <td>NaN</td>\n",
              "    </tr>\n",
              "    <tr>\n",
              "      <th>3</th>\n",
              "      <td>Wabash General Hospital</td>\n",
              "      <td>NaN</td>\n",
              "      <td>26 E Elm St</td>\n",
              "      <td>Albion IL 62806 Edwards</td>\n",
              "      <td>(618) 445-8170</td>\n",
              "    </tr>\n",
              "    <tr>\n",
              "      <th>4</th>\n",
              "      <td>Cheesman, Michael P PA</td>\n",
              "      <td>NaN</td>\n",
              "      <td>NaN</td>\n",
              "      <td>NaN</td>\n",
              "      <td>NaN</td>\n",
              "    </tr>\n",
              "  </tbody>\n",
              "</table>\n",
              "</div>"
            ],
            "text/plain": [
              "                Unnamed: 0  ...      Unnamed: 3\n",
              "0           Name Specialty  ...           Phone\n",
              "1                 Illinois  ...             NaN\n",
              "2      Bisby, Donald C POD  ...             NaN\n",
              "3  Wabash General Hospital  ...  (618) 445-8170\n",
              "4   Cheesman, Michael P PA  ...             NaN\n",
              "\n",
              "[5 rows x 5 columns]"
            ]
          },
          "metadata": {
            "tags": []
          },
          "execution_count": 7
        }
      ]
    },
    {
      "cell_type": "code",
      "metadata": {
        "colab": {
          "base_uri": "https://localhost:8080/",
          "height": 204
        },
        "id": "sZkhauOEuKj3",
        "outputId": "3ff2b23b-227e-4093-94c1-b10a8ed1fdfe"
      },
      "source": [
        "# second page of the table\r\n",
        "df[1].head()"
      ],
      "execution_count": 8,
      "outputs": [
        {
          "output_type": "execute_result",
          "data": {
            "text/html": [
              "<div>\n",
              "<style scoped>\n",
              "    .dataframe tbody tr th:only-of-type {\n",
              "        vertical-align: middle;\n",
              "    }\n",
              "\n",
              "    .dataframe tbody tr th {\n",
              "        vertical-align: top;\n",
              "    }\n",
              "\n",
              "    .dataframe thead th {\n",
              "        text-align: right;\n",
              "    }\n",
              "</style>\n",
              "<table border=\"1\" class=\"dataframe\">\n",
              "  <thead>\n",
              "    <tr style=\"text-align: right;\">\n",
              "      <th></th>\n",
              "      <th>Name Specialty</th>\n",
              "      <th>Unnamed: 0</th>\n",
              "      <th>Address</th>\n",
              "      <th>City</th>\n",
              "      <th>State</th>\n",
              "      <th>Zip</th>\n",
              "      <th>County</th>\n",
              "      <th>Phone</th>\n",
              "    </tr>\n",
              "  </thead>\n",
              "  <tbody>\n",
              "    <tr>\n",
              "      <th>0</th>\n",
              "      <td>Doshi, Simit M NEP</td>\n",
              "      <td>NaN</td>\n",
              "      <td>NaN</td>\n",
              "      <td>NaN</td>\n",
              "      <td>NaN</td>\n",
              "      <td>NaN</td>\n",
              "      <td>NaN</td>\n",
              "      <td>NaN</td>\n",
              "    </tr>\n",
              "    <tr>\n",
              "      <th>1</th>\n",
              "      <td>University Medical Diagnostic Assoc</td>\n",
              "      <td>NaN</td>\n",
              "      <td>7301 Solution Center</td>\n",
              "      <td>Chicago</td>\n",
              "      <td>IL</td>\n",
              "      <td>60677.0</td>\n",
              "      <td>Cook</td>\n",
              "      <td>(800) 741-4250</td>\n",
              "    </tr>\n",
              "    <tr>\n",
              "      <th>2</th>\n",
              "      <td>Gardner, Thomas A URO</td>\n",
              "      <td>NaN</td>\n",
              "      <td>NaN</td>\n",
              "      <td>NaN</td>\n",
              "      <td>NaN</td>\n",
              "      <td>NaN</td>\n",
              "      <td>NaN</td>\n",
              "      <td>NaN</td>\n",
              "    </tr>\n",
              "    <tr>\n",
              "      <th>3</th>\n",
              "      <td>University Urologists PC Inc.</td>\n",
              "      <td>NaN</td>\n",
              "      <td>7614 Solution Center</td>\n",
              "      <td>Chicago</td>\n",
              "      <td>IL</td>\n",
              "      <td>60677.0</td>\n",
              "      <td>Cook</td>\n",
              "      <td>(317) 962-4777</td>\n",
              "    </tr>\n",
              "    <tr>\n",
              "      <th>4</th>\n",
              "      <td>Makar, Melissa S NEP</td>\n",
              "      <td>NaN</td>\n",
              "      <td>NaN</td>\n",
              "      <td>NaN</td>\n",
              "      <td>NaN</td>\n",
              "      <td>NaN</td>\n",
              "      <td>NaN</td>\n",
              "      <td>NaN</td>\n",
              "    </tr>\n",
              "  </tbody>\n",
              "</table>\n",
              "</div>"
            ],
            "text/plain": [
              "                        Name Specialty  Unnamed: 0  ... County           Phone\n",
              "0                   Doshi, Simit M NEP         NaN  ...    NaN             NaN\n",
              "1  University Medical Diagnostic Assoc         NaN  ...   Cook  (800) 741-4250\n",
              "2                Gardner, Thomas A URO         NaN  ...    NaN             NaN\n",
              "3        University Urologists PC Inc.         NaN  ...   Cook  (317) 962-4777\n",
              "4                 Makar, Melissa S NEP         NaN  ...    NaN             NaN\n",
              "\n",
              "[5 rows x 8 columns]"
            ]
          },
          "metadata": {
            "tags": []
          },
          "execution_count": 8
        }
      ]
    },
    {
      "cell_type": "code",
      "metadata": {
        "colab": {
          "base_uri": "https://localhost:8080/",
          "height": 204
        },
        "id": "zQjcUhRDdZ6z",
        "outputId": "1765ff6e-d95d-4402-8e86-b0ace2ab7092"
      },
      "source": [
        "# last page of the \r\n",
        "df[-1].head()"
      ],
      "execution_count": 9,
      "outputs": [
        {
          "output_type": "execute_result",
          "data": {
            "text/html": [
              "<div>\n",
              "<style scoped>\n",
              "    .dataframe tbody tr th:only-of-type {\n",
              "        vertical-align: middle;\n",
              "    }\n",
              "\n",
              "    .dataframe tbody tr th {\n",
              "        vertical-align: top;\n",
              "    }\n",
              "\n",
              "    .dataframe thead th {\n",
              "        text-align: right;\n",
              "    }\n",
              "</style>\n",
              "<table border=\"1\" class=\"dataframe\">\n",
              "  <thead>\n",
              "    <tr style=\"text-align: right;\">\n",
              "      <th></th>\n",
              "      <th>Name</th>\n",
              "      <th>Specialty</th>\n",
              "      <th>Address</th>\n",
              "      <th>City</th>\n",
              "      <th>State</th>\n",
              "      <th>Zip</th>\n",
              "      <th>County</th>\n",
              "      <th>Phone</th>\n",
              "    </tr>\n",
              "  </thead>\n",
              "  <tbody>\n",
              "    <tr>\n",
              "      <th>0</th>\n",
              "      <td>Young, Nicole</td>\n",
              "      <td>PA</td>\n",
              "      <td>NaN</td>\n",
              "      <td>NaN</td>\n",
              "      <td>NaN</td>\n",
              "      <td>NaN</td>\n",
              "      <td>NaN</td>\n",
              "      <td>NaN</td>\n",
              "    </tr>\n",
              "    <tr>\n",
              "      <th>1</th>\n",
              "      <td>Midwest Community Health Associates</td>\n",
              "      <td>NaN</td>\n",
              "      <td>725 S Shoop Ave</td>\n",
              "      <td>Wauseon</td>\n",
              "      <td>OH</td>\n",
              "      <td>43567.0</td>\n",
              "      <td>Fulton</td>\n",
              "      <td>(419) 335-0215</td>\n",
              "    </tr>\n",
              "    <tr>\n",
              "      <th>2</th>\n",
              "      <td>Zimmerman, James A</td>\n",
              "      <td>FMP</td>\n",
              "      <td>NaN</td>\n",
              "      <td>NaN</td>\n",
              "      <td>NaN</td>\n",
              "      <td>NaN</td>\n",
              "      <td>NaN</td>\n",
              "      <td>NaN</td>\n",
              "    </tr>\n",
              "    <tr>\n",
              "      <th>3</th>\n",
              "      <td>Midwest Community Health Associates</td>\n",
              "      <td>NaN</td>\n",
              "      <td>725 S Shoop Ave</td>\n",
              "      <td>Wauseon</td>\n",
              "      <td>OH</td>\n",
              "      <td>43567.0</td>\n",
              "      <td>Fulton</td>\n",
              "      <td>(419) 335-0215</td>\n",
              "    </tr>\n",
              "    <tr>\n",
              "      <th>4</th>\n",
              "      <td>» Midwest Community Health Associates</td>\n",
              "      <td>NaN</td>\n",
              "      <td>495 S Shoop Ave</td>\n",
              "      <td>Wauseon</td>\n",
              "      <td>OH</td>\n",
              "      <td>43567.0</td>\n",
              "      <td>Fulton</td>\n",
              "      <td>(419) 335-7921</td>\n",
              "    </tr>\n",
              "  </tbody>\n",
              "</table>\n",
              "</div>"
            ],
            "text/plain": [
              "                                    Name Specialty  ...  County           Phone\n",
              "0                          Young, Nicole        PA  ...     NaN             NaN\n",
              "1    Midwest Community Health Associates       NaN  ...  Fulton  (419) 335-0215\n",
              "2                     Zimmerman, James A       FMP  ...     NaN             NaN\n",
              "3    Midwest Community Health Associates       NaN  ...  Fulton  (419) 335-0215\n",
              "4  » Midwest Community Health Associates       NaN  ...  Fulton  (419) 335-7921\n",
              "\n",
              "[5 rows x 8 columns]"
            ]
          },
          "metadata": {
            "tags": []
          },
          "execution_count": 9
        }
      ]
    },
    {
      "cell_type": "code",
      "metadata": {
        "id": "vq9d1Lgipjyo"
      },
      "source": [
        "# some scratch code here\r\n",
        "#[x for x in df[2].columns] == [x for x in df[1000].columns]"
      ],
      "execution_count": 10,
      "outputs": []
    },
    {
      "cell_type": "code",
      "metadata": {
        "id": "jkfNmsL3xCqh"
      },
      "source": [
        "# because of how tabula library works, it messes up some of the columns \r\n",
        "# so that complicates everything. I cannot do one solution to fit all\r\n",
        "# instead I have to determine how many different cases are out there. \r\n",
        "# I need to see how many of the columns are messes up the same way. \r\n",
        "# I need to count them. \r\n",
        "\r\n",
        "# here i will detect which items of the list are not same as the rest of the pages. \r\n",
        "\r\n",
        "cols={}\r\n",
        "for i in range(len(df)):\r\n",
        "  #if not [x for x in df[1].columns] == [x for x in df[i].columns]:\r\n",
        "  cols[i] = ''.join(df[i].columns)"
      ],
      "execution_count": 11,
      "outputs": []
    },
    {
      "cell_type": "code",
      "metadata": {
        "colab": {
          "base_uri": "https://localhost:8080/",
          "height": 198
        },
        "id": "tGE3wROJnYFc",
        "outputId": "2a41cd8f-7584-4307-88b4-73b24c919306"
      },
      "source": [
        "# i had this unhasable error, because i used lists in the rows. \r\n",
        "# to overcome that I found another way of reaching the goal. \r\n",
        "columns.value_counts()"
      ],
      "execution_count": 12,
      "outputs": [
        {
          "output_type": "error",
          "ename": "NameError",
          "evalue": "ignored",
          "traceback": [
            "\u001b[0;31m---------------------------------------------------------------------------\u001b[0m",
            "\u001b[0;31mNameError\u001b[0m                                 Traceback (most recent call last)",
            "\u001b[0;32m<ipython-input-12-2e181f9205e6>\u001b[0m in \u001b[0;36m<module>\u001b[0;34m()\u001b[0m\n\u001b[1;32m      1\u001b[0m \u001b[0;31m# i had this unhasable error, because i used lists in the rows.\u001b[0m\u001b[0;34m\u001b[0m\u001b[0;34m\u001b[0m\u001b[0;34m\u001b[0m\u001b[0m\n\u001b[1;32m      2\u001b[0m \u001b[0;31m# to overcome that I found another way of reaching the goal.\u001b[0m\u001b[0;34m\u001b[0m\u001b[0;34m\u001b[0m\u001b[0;34m\u001b[0m\u001b[0m\n\u001b[0;32m----> 3\u001b[0;31m \u001b[0mcolumns\u001b[0m\u001b[0;34m.\u001b[0m\u001b[0mvalue_counts\u001b[0m\u001b[0;34m(\u001b[0m\u001b[0;34m)\u001b[0m\u001b[0;34m\u001b[0m\u001b[0;34m\u001b[0m\u001b[0m\n\u001b[0m",
            "\u001b[0;31mNameError\u001b[0m: name 'columns' is not defined"
          ]
        }
      ]
    },
    {
      "cell_type": "code",
      "metadata": {
        "colab": {
          "base_uri": "https://localhost:8080/",
          "height": 35
        },
        "id": "HyrVNtrMnn1q",
        "outputId": "f2647425-c0b3-4dbb-e568-6c7fcf2747d7"
      },
      "source": [
        "# this works to concatenate the column names. \r\n",
        "''.join(cols[1])"
      ],
      "execution_count": 13,
      "outputs": [
        {
          "output_type": "execute_result",
          "data": {
            "application/vnd.google.colaboratory.intrinsic+json": {
              "type": "string"
            },
            "text/plain": [
              "'Name SpecialtyUnnamed: 0AddressCityStateZipCountyPhone'"
            ]
          },
          "metadata": {
            "tags": []
          },
          "execution_count": 13
        }
      ]
    },
    {
      "cell_type": "code",
      "metadata": {
        "colab": {
          "base_uri": "https://localhost:8080/"
        },
        "id": "pljQ8SmzxV_c",
        "outputId": "13458431-83fe-4d7c-9f0a-a9bc124bd78b"
      },
      "source": [
        "# all the columns and how many times they appear on the dfs.\r\n",
        "allcols = pd.Series(cols).value_counts()\r\n",
        "allcols"
      ],
      "execution_count": 14,
      "outputs": [
        {
          "output_type": "execute_result",
          "data": {
            "text/plain": [
              "Name SpecialtyUnnamed: 0AddressCityStateZipCountyPhone                                   519\n",
              "Unnamed: 0Name SpecialtyUnnamed: 1AddressCityStateZipCountyPhone                         349\n",
              "Unnamed: 0NameSpecialtyAddressCityStateZipCountyPhone                                    123\n",
              "NameSpecialtyAddressCityStateZipCountyPhone                                               92\n",
              "Name SpecialtyUnnamed: 0Address CityUnnamed: 1StateZipCountyPhone                         46\n",
              "Unnamed: 0Unnamed: 1Name SpecialtyUnnamed: 2AddressCityStateZipCountyPhone                27\n",
              "Unnamed: 0Name SpecialtyUnnamed: 1Address CityUnnamed: 2StateZipCountyPhone               20\n",
              "Unnamed: 0Unnamed: 1NameSpecialtyAddressCityStateZipCountyPhone                            7\n",
              "Unnamed: 0Name SpecialtyAddressUnnamed: 1CityStateZipCountyPhone                           3\n",
              "Unnamed: 0NameSpecialtyAddress CityUnnamed: 1StateZipCountyPhone                           2\n",
              "Name SpecialtyAddressCityUnnamed: 0StateZipCountyPhone                                     1\n",
              "Unnamed: 0Unnamed: 1Unnamed: 2Participating Physicians List by StateUnnamed: 3             1\n",
              "Unnamed: 0Unnamed: 1Name SpecialtyUnnamed: 2Address CityUnnamed: 3StateZipCountyPhone      1\n",
              "Unnamed: 0Name SpecialtyAddressCityUnnamed: 1StateZipCountyPhone                           1\n",
              "Unnamed: 0NameSpecialty AddressUnnamed: 1CityStateZipCountyPhone                           1\n",
              "dtype: int64"
            ]
          },
          "metadata": {
            "tags": []
          },
          "execution_count": 14
        }
      ]
    },
    {
      "cell_type": "code",
      "metadata": {
        "id": "I_QZy_Cp062l"
      },
      "source": [
        "# this part holds the locations of the 519 dfs on the above table. \r\n",
        "cols1Index=[]\r\n",
        "for i in range(len(df)):\r\n",
        "  if ''.join(df[i].columns) == allcols.index[0]:\r\n",
        "    cols1Index.append(i)"
      ],
      "execution_count": 26,
      "outputs": []
    },
    {
      "cell_type": "code",
      "metadata": {
        "colab": {
          "base_uri": "https://localhost:8080/"
        },
        "id": "Jp8wue1X1iGU",
        "outputId": "3a669cce-df7c-48d1-bb61-af12b4e4137e"
      },
      "source": [
        "print(cols1Index)"
      ],
      "execution_count": 28,
      "outputs": [
        {
          "output_type": "stream",
          "text": [
            "[1, 2, 3, 4, 6, 7, 9, 10, 12, 14, 15, 16, 17, 18, 19, 20, 22, 23, 26, 28, 29, 31, 33, 34, 56, 57, 58, 60, 62, 65, 66, 67, 77, 78, 80, 81, 83, 86, 94, 98, 100, 113, 120, 128, 131, 133, 138, 139, 140, 143, 149, 150, 152, 160, 174, 177, 178, 181, 195, 199, 207, 209, 210, 211, 213, 215, 220, 223, 225, 226, 227, 228, 229, 230, 246, 249, 253, 302, 353, 363, 364, 372, 383, 384, 386, 387, 389, 390, 392, 393, 394, 396, 397, 399, 400, 408, 410, 411, 412, 414, 415, 416, 419, 421, 422, 429, 431, 432, 433, 438, 439, 442, 443, 444, 446, 447, 448, 449, 450, 451, 454, 455, 457, 459, 462, 464, 466, 467, 469, 470, 471, 472, 473, 474, 476, 478, 479, 480, 482, 483, 484, 485, 486, 487, 488, 489, 493, 494, 496, 497, 498, 499, 500, 502, 505, 506, 507, 509, 510, 511, 512, 513, 514, 516, 517, 518, 519, 520, 521, 522, 523, 528, 529, 530, 531, 532, 535, 537, 539, 540, 541, 542, 543, 544, 545, 547, 548, 549, 551, 553, 555, 556, 557, 558, 559, 560, 561, 562, 564, 565, 567, 568, 569, 570, 571, 572, 573, 574, 576, 577, 578, 580, 582, 583, 584, 586, 587, 589, 590, 591, 592, 593, 594, 595, 597, 599, 600, 601, 602, 605, 607, 608, 610, 611, 612, 613, 614, 615, 616, 618, 619, 621, 622, 624, 627, 631, 647, 657, 658, 659, 668, 669, 670, 671, 672, 673, 680, 687, 737, 742, 751, 752, 754, 757, 762, 766, 770, 772, 776, 780, 782, 783, 784, 785, 787, 790, 792, 794, 795, 796, 797, 798, 799, 801, 802, 803, 804, 805, 806, 812, 814, 816, 818, 821, 822, 824, 830, 838, 840, 844, 852, 853, 857, 862, 863, 873, 874, 883, 884, 885, 886, 887, 894, 896, 898, 900, 913, 915, 916, 917, 919, 926, 944, 945, 946, 952, 953, 955, 958, 961, 962, 967, 969, 970, 971, 972, 973, 974, 975, 976, 977, 978, 979, 980, 981, 982, 983, 984, 985, 986, 987, 988, 989, 990, 991, 992, 993, 994, 995, 996, 997, 998, 999, 1000, 1001, 1002, 1003, 1004, 1005, 1006, 1007, 1008, 1009, 1010, 1011, 1012, 1013, 1014, 1015, 1016, 1017, 1018, 1019, 1020, 1021, 1022, 1023, 1024, 1025, 1026, 1027, 1028, 1029, 1030, 1031, 1032, 1033, 1034, 1035, 1036, 1037, 1039, 1040, 1041, 1042, 1043, 1044, 1045, 1046, 1047, 1048, 1049, 1050, 1051, 1052, 1054, 1055, 1056, 1057, 1058, 1059, 1060, 1061, 1062, 1063, 1064, 1065, 1066, 1067, 1068, 1069, 1070, 1071, 1072, 1073, 1074, 1075, 1076, 1077, 1078, 1079, 1080, 1081, 1082, 1083, 1084, 1085, 1086, 1087, 1088, 1089, 1090, 1091, 1092, 1093, 1094, 1095, 1096, 1097, 1098, 1099, 1100, 1101, 1102, 1103, 1104, 1105, 1106, 1107, 1108, 1109, 1110, 1111, 1112, 1114, 1115, 1116, 1117, 1118, 1119, 1120, 1121, 1122, 1123, 1124, 1125, 1126, 1127, 1128, 1129, 1130, 1131, 1132, 1133, 1134, 1136, 1137, 1143, 1144, 1145, 1152, 1153, 1158, 1160, 1161, 1162, 1163, 1164, 1165, 1166, 1168, 1169, 1170, 1172, 1175, 1180, 1181, 1182, 1189]\n"
          ],
          "name": "stdout"
        }
      ]
    },
    {
      "cell_type": "code",
      "metadata": {
        "id": "3OrxZ4Kl143D"
      },
      "source": [
        "abc = df[1]"
      ],
      "execution_count": 20,
      "outputs": []
    },
    {
      "cell_type": "code",
      "metadata": {
        "colab": {
          "base_uri": "https://localhost:8080/"
        },
        "id": "8U9QJyoNw9Rh",
        "outputId": "330ce454-514b-483c-dd69-24fd0d940d13"
      },
      "source": [
        "# Extracting Specialty from Name \r\n",
        "name = abc[abc['Address'].isna()]\r\n",
        "specialty = []\r\n",
        "for i in range(len(name)):\r\n",
        "  specialty.append(name['Name Specialty'].values[i].split()[-1])\r\n",
        "name['Specialty'] = specialty"
      ],
      "execution_count": 21,
      "outputs": [
        {
          "output_type": "stream",
          "text": [
            "/usr/local/lib/python3.7/dist-packages/ipykernel_launcher.py:6: SettingWithCopyWarning: \n",
            "A value is trying to be set on a copy of a slice from a DataFrame.\n",
            "Try using .loc[row_indexer,col_indexer] = value instead\n",
            "\n",
            "See the caveats in the documentation: https://pandas.pydata.org/pandas-docs/stable/user_guide/indexing.html#returning-a-view-versus-a-copy\n",
            "  \n"
          ],
          "name": "stderr"
        }
      ]
    },
    {
      "cell_type": "code",
      "metadata": {
        "colab": {
          "base_uri": "https://localhost:8080/"
        },
        "id": "2Flm-4oE74Q7",
        "outputId": "2de2bace-0446-468f-b137-5527ffe7b62f"
      },
      "source": [
        "name['Name Specialty'].values[i].split()[0:-1]"
      ],
      "execution_count": 22,
      "outputs": [
        {
          "output_type": "execute_result",
          "data": {
            "text/plain": [
              "['Wepsic,', 'Richard', 'A']"
            ]
          },
          "metadata": {
            "tags": []
          },
          "execution_count": 22
        }
      ]
    },
    {
      "cell_type": "code",
      "metadata": {
        "colab": {
          "base_uri": "https://localhost:8080/",
          "height": 306
        },
        "id": "9hLK0khA7Rxd",
        "outputId": "f0cfa402-ab28-4c08-dff2-74eaa9f67a51"
      },
      "source": [
        "# abort this cell \r\n",
        "# first name column\r\n",
        "name['First Name'] = name['Name Specialty'].str.split(',', 1, expand=True)[0]\r\n",
        "#[1].str.split(' ', expand=True)\r\n",
        "name.head(5)"
      ],
      "execution_count": 24,
      "outputs": [
        {
          "output_type": "stream",
          "text": [
            "/usr/local/lib/python3.7/dist-packages/ipykernel_launcher.py:3: SettingWithCopyWarning: \n",
            "A value is trying to be set on a copy of a slice from a DataFrame.\n",
            "Try using .loc[row_indexer,col_indexer] = value instead\n",
            "\n",
            "See the caveats in the documentation: https://pandas.pydata.org/pandas-docs/stable/user_guide/indexing.html#returning-a-view-versus-a-copy\n",
            "  This is separate from the ipykernel package so we can avoid doing imports until\n"
          ],
          "name": "stderr"
        },
        {
          "output_type": "execute_result",
          "data": {
            "text/html": [
              "<div>\n",
              "<style scoped>\n",
              "    .dataframe tbody tr th:only-of-type {\n",
              "        vertical-align: middle;\n",
              "    }\n",
              "\n",
              "    .dataframe tbody tr th {\n",
              "        vertical-align: top;\n",
              "    }\n",
              "\n",
              "    .dataframe thead th {\n",
              "        text-align: right;\n",
              "    }\n",
              "</style>\n",
              "<table border=\"1\" class=\"dataframe\">\n",
              "  <thead>\n",
              "    <tr style=\"text-align: right;\">\n",
              "      <th></th>\n",
              "      <th>Name Specialty</th>\n",
              "      <th>Unnamed: 0</th>\n",
              "      <th>Address</th>\n",
              "      <th>City</th>\n",
              "      <th>State</th>\n",
              "      <th>Zip</th>\n",
              "      <th>County</th>\n",
              "      <th>Phone</th>\n",
              "      <th>Specialty</th>\n",
              "      <th>First Name</th>\n",
              "    </tr>\n",
              "  </thead>\n",
              "  <tbody>\n",
              "    <tr>\n",
              "      <th>0</th>\n",
              "      <td>Doshi, Simit M NEP</td>\n",
              "      <td>NaN</td>\n",
              "      <td>NaN</td>\n",
              "      <td>NaN</td>\n",
              "      <td>NaN</td>\n",
              "      <td>NaN</td>\n",
              "      <td>NaN</td>\n",
              "      <td>NaN</td>\n",
              "      <td>NEP</td>\n",
              "      <td>Doshi</td>\n",
              "    </tr>\n",
              "    <tr>\n",
              "      <th>2</th>\n",
              "      <td>Gardner, Thomas A URO</td>\n",
              "      <td>NaN</td>\n",
              "      <td>NaN</td>\n",
              "      <td>NaN</td>\n",
              "      <td>NaN</td>\n",
              "      <td>NaN</td>\n",
              "      <td>NaN</td>\n",
              "      <td>NaN</td>\n",
              "      <td>URO</td>\n",
              "      <td>Gardner</td>\n",
              "    </tr>\n",
              "    <tr>\n",
              "      <th>4</th>\n",
              "      <td>Makar, Melissa S NEP</td>\n",
              "      <td>NaN</td>\n",
              "      <td>NaN</td>\n",
              "      <td>NaN</td>\n",
              "      <td>NaN</td>\n",
              "      <td>NaN</td>\n",
              "      <td>NaN</td>\n",
              "      <td>NaN</td>\n",
              "      <td>NEP</td>\n",
              "      <td>Makar</td>\n",
              "    </tr>\n",
              "    <tr>\n",
              "      <th>6</th>\n",
              "      <td>Taylor, Elizabeth A NPR</td>\n",
              "      <td>NaN</td>\n",
              "      <td>NaN</td>\n",
              "      <td>NaN</td>\n",
              "      <td>NaN</td>\n",
              "      <td>NaN</td>\n",
              "      <td>NaN</td>\n",
              "      <td>NaN</td>\n",
              "      <td>NPR</td>\n",
              "      <td>Taylor</td>\n",
              "    </tr>\n",
              "    <tr>\n",
              "      <th>8</th>\n",
              "      <td>Coleman Jr, David A PSYD</td>\n",
              "      <td>NaN</td>\n",
              "      <td>NaN</td>\n",
              "      <td>NaN</td>\n",
              "      <td>NaN</td>\n",
              "      <td>NaN</td>\n",
              "      <td>NaN</td>\n",
              "      <td>NaN</td>\n",
              "      <td>PSYD</td>\n",
              "      <td>Coleman Jr</td>\n",
              "    </tr>\n",
              "  </tbody>\n",
              "</table>\n",
              "</div>"
            ],
            "text/plain": [
              "             Name Specialty  Unnamed: 0 Address  ... Phone Specialty  First Name\n",
              "0        Doshi, Simit M NEP         NaN     NaN  ...   NaN       NEP       Doshi\n",
              "2     Gardner, Thomas A URO         NaN     NaN  ...   NaN       URO     Gardner\n",
              "4      Makar, Melissa S NEP         NaN     NaN  ...   NaN       NEP       Makar\n",
              "6   Taylor, Elizabeth A NPR         NaN     NaN  ...   NaN       NPR      Taylor\n",
              "8  Coleman Jr, David A PSYD         NaN     NaN  ...   NaN      PSYD  Coleman Jr\n",
              "\n",
              "[5 rows x 10 columns]"
            ]
          },
          "metadata": {
            "tags": []
          },
          "execution_count": 24
        }
      ]
    },
    {
      "cell_type": "code",
      "metadata": {
        "colab": {
          "base_uri": "https://localhost:8080/"
        },
        "id": "7qHwf75e-3s_",
        "outputId": "09dc886d-f8c2-4428-ab73-b3fd9a32d17c"
      },
      "source": [
        "# Last Name Column\r\n",
        "name[['index','Last Name', 'Middle Name Initial', 'Specialty']] = name['Name Specialty'].str.split(',', 1, expand=True)[1].str.split(' ', expand=True)"
      ],
      "execution_count": 179,
      "outputs": [
        {
          "output_type": "stream",
          "text": [
            "/usr/local/lib/python3.7/dist-packages/pandas/core/frame.py:3069: SettingWithCopyWarning: \n",
            "A value is trying to be set on a copy of a slice from a DataFrame.\n",
            "Try using .loc[row_indexer,col_indexer] = value instead\n",
            "\n",
            "See the caveats in the documentation: https://pandas.pydata.org/pandas-docs/stable/user_guide/indexing.html#returning-a-view-versus-a-copy\n",
            "  self[k1] = value[k2]\n"
          ],
          "name": "stderr"
        }
      ]
    },
    {
      "cell_type": "code",
      "metadata": {
        "id": "vOvcJft5_ty4"
      },
      "source": [
        "name = name[['First Name', 'Last Name', 'Middle Name Initial', 'Specialty']]"
      ],
      "execution_count": 185,
      "outputs": []
    },
    {
      "cell_type": "code",
      "metadata": {
        "id": "Tzs4j1g8AI7s"
      },
      "source": [
        "rest = abc[~abc['Address'].isna()]"
      ],
      "execution_count": 190,
      "outputs": []
    },
    {
      "cell_type": "code",
      "metadata": {
        "colab": {
          "base_uri": "https://localhost:8080/",
          "height": 204
        },
        "id": "tdy6PDwtBiK-",
        "outputId": "b8e3ef1e-dd6b-49e9-892d-a190e431b514"
      },
      "source": [
        "rest.head()"
      ],
      "execution_count": 204,
      "outputs": [
        {
          "output_type": "execute_result",
          "data": {
            "text/html": [
              "<div>\n",
              "<style scoped>\n",
              "    .dataframe tbody tr th:only-of-type {\n",
              "        vertical-align: middle;\n",
              "    }\n",
              "\n",
              "    .dataframe tbody tr th {\n",
              "        vertical-align: top;\n",
              "    }\n",
              "\n",
              "    .dataframe thead th {\n",
              "        text-align: right;\n",
              "    }\n",
              "</style>\n",
              "<table border=\"1\" class=\"dataframe\">\n",
              "  <thead>\n",
              "    <tr style=\"text-align: right;\">\n",
              "      <th></th>\n",
              "      <th>Name Specialty</th>\n",
              "      <th>Unnamed: 0</th>\n",
              "      <th>Address</th>\n",
              "      <th>City</th>\n",
              "      <th>State</th>\n",
              "      <th>Zip</th>\n",
              "      <th>County</th>\n",
              "      <th>Phone</th>\n",
              "    </tr>\n",
              "  </thead>\n",
              "  <tbody>\n",
              "    <tr>\n",
              "      <th>1</th>\n",
              "      <td>University Medical Diagnostic Assoc</td>\n",
              "      <td>NaN</td>\n",
              "      <td>7301 Solution Center</td>\n",
              "      <td>Chicago</td>\n",
              "      <td>IL</td>\n",
              "      <td>60677.0</td>\n",
              "      <td>Cook</td>\n",
              "      <td>(800) 741-4250</td>\n",
              "    </tr>\n",
              "    <tr>\n",
              "      <th>3</th>\n",
              "      <td>University Urologists PC Inc.</td>\n",
              "      <td>NaN</td>\n",
              "      <td>7614 Solution Center</td>\n",
              "      <td>Chicago</td>\n",
              "      <td>IL</td>\n",
              "      <td>60677.0</td>\n",
              "      <td>Cook</td>\n",
              "      <td>(317) 962-4777</td>\n",
              "    </tr>\n",
              "    <tr>\n",
              "      <th>5</th>\n",
              "      <td>University Medical Diagnostic Assoc</td>\n",
              "      <td>NaN</td>\n",
              "      <td>7301 Solution Center</td>\n",
              "      <td>Chicago</td>\n",
              "      <td>IL</td>\n",
              "      <td>60677.0</td>\n",
              "      <td>Cook</td>\n",
              "      <td>(800) 741-4250</td>\n",
              "    </tr>\n",
              "    <tr>\n",
              "      <th>7</th>\n",
              "      <td>University Medical Diagnostic Assoc</td>\n",
              "      <td>NaN</td>\n",
              "      <td>7301 Solution Center</td>\n",
              "      <td>Chicago</td>\n",
              "      <td>IL</td>\n",
              "      <td>60677.0</td>\n",
              "      <td>Cook</td>\n",
              "      <td>(800) 741-4250</td>\n",
              "    </tr>\n",
              "    <tr>\n",
              "      <th>9</th>\n",
              "      <td>David Coleman PhD</td>\n",
              "      <td>NaN</td>\n",
              "      <td>114 N Walnut</td>\n",
              "      <td>Danville</td>\n",
              "      <td>IL</td>\n",
              "      <td>61832.0</td>\n",
              "      <td>Vermilion</td>\n",
              "      <td>(217) 474-1305</td>\n",
              "    </tr>\n",
              "  </tbody>\n",
              "</table>\n",
              "</div>"
            ],
            "text/plain": [
              "                        Name Specialty  Unnamed: 0  ...     County           Phone\n",
              "1  University Medical Diagnostic Assoc         NaN  ...       Cook  (800) 741-4250\n",
              "3        University Urologists PC Inc.         NaN  ...       Cook  (317) 962-4777\n",
              "5  University Medical Diagnostic Assoc         NaN  ...       Cook  (800) 741-4250\n",
              "7  University Medical Diagnostic Assoc         NaN  ...       Cook  (800) 741-4250\n",
              "9                    David Coleman PhD         NaN  ...  Vermilion  (217) 474-1305\n",
              "\n",
              "[5 rows x 8 columns]"
            ]
          },
          "metadata": {
            "tags": []
          },
          "execution_count": 204
        }
      ]
    },
    {
      "cell_type": "code",
      "metadata": {
        "id": "VheLvvCYAyWe"
      },
      "source": [
        "foo = name.head(5)"
      ],
      "execution_count": 29,
      "outputs": []
    },
    {
      "cell_type": "code",
      "metadata": {
        "id": "6vQ-kBUlBdBd"
      },
      "source": [
        "for i in rest.index:\r\n",
        "  print(i)\r\n",
        "  "
      ],
      "execution_count": null,
      "outputs": []
    },
    {
      "cell_type": "code",
      "metadata": {
        "colab": {
          "base_uri": "https://localhost:8080/"
        },
        "id": "DZqPALfaCLr5",
        "outputId": "f7eda37a-43a5-4d95-ea1f-9d18d5f9f30c"
      },
      "source": [
        "foo['First Name'][12] = 'hur'"
      ],
      "execution_count": 214,
      "outputs": [
        {
          "output_type": "stream",
          "text": [
            "/usr/local/lib/python3.7/dist-packages/pandas/core/indexing.py:670: SettingWithCopyWarning: \n",
            "A value is trying to be set on a copy of a slice from a DataFrame\n",
            "\n",
            "See the caveats in the documentation: https://pandas.pydata.org/pandas-docs/stable/user_guide/indexing.html#returning-a-view-versus-a-copy\n",
            "  iloc._setitem_with_indexer(indexer, value)\n",
            "/usr/local/lib/python3.7/dist-packages/IPython/core/interactiveshell.py:2882: SettingWithCopyWarning: \n",
            "A value is trying to be set on a copy of a slice from a DataFrame\n",
            "\n",
            "See the caveats in the documentation: https://pandas.pydata.org/pandas-docs/stable/user_guide/indexing.html#returning-a-view-versus-a-copy\n",
            "  exec(code_obj, self.user_global_ns, self.user_ns)\n"
          ],
          "name": "stderr"
        }
      ]
    },
    {
      "cell_type": "code",
      "metadata": {
        "id": "SLGgT40UOqCV"
      },
      "source": [
        "foo.iloc[]"
      ],
      "execution_count": null,
      "outputs": []
    },
    {
      "cell_type": "code",
      "metadata": {
        "colab": {
          "base_uri": "https://localhost:8080/"
        },
        "id": "T-FIiv8hOfjF",
        "outputId": "ddb9c297-19fc-435c-f8a1-b0e9c3a0ab37"
      },
      "source": [
        "rest[['First Name', 'Last Name', 'Middle Name Initial', 'Specialty']] = name\r\n",
        "#name"
      ],
      "execution_count": 222,
      "outputs": [
        {
          "output_type": "stream",
          "text": [
            "/usr/local/lib/python3.7/dist-packages/pandas/core/frame.py:3069: SettingWithCopyWarning: \n",
            "A value is trying to be set on a copy of a slice from a DataFrame.\n",
            "Try using .loc[row_indexer,col_indexer] = value instead\n",
            "\n",
            "See the caveats in the documentation: https://pandas.pydata.org/pandas-docs/stable/user_guide/indexing.html#returning-a-view-versus-a-copy\n",
            "  self[k1] = value[k2]\n"
          ],
          "name": "stderr"
        }
      ]
    },
    {
      "cell_type": "code",
      "metadata": {
        "id": "u4-LPLokQ-ne"
      },
      "source": [
        "rest"
      ],
      "execution_count": null,
      "outputs": []
    },
    {
      "cell_type": "code",
      "metadata": {
        "id": "AobaZLWnTFqB"
      },
      "source": [
        ""
      ],
      "execution_count": null,
      "outputs": []
    },
    {
      "cell_type": "markdown",
      "metadata": {
        "id": "cdX9JdVFUtRU"
      },
      "source": [
        "## Appending dfs with the same columns."
      ]
    },
    {
      "cell_type": "code",
      "metadata": {
        "id": "JjaUszmFOwtX"
      },
      "source": [
        "for i in range(2, len(df)):\r\n",
        "    df[1] = df[1].append(df[i])"
      ],
      "execution_count": 12,
      "outputs": []
    },
    {
      "cell_type": "code",
      "metadata": {
        "colab": {
          "base_uri": "https://localhost:8080/",
          "height": 32
        },
        "id": "rjoFiUvcYSaC",
        "outputId": "aeb7166b-0a37-42b9-e3c1-0664757430cd"
      },
      "source": [
        "df1 = pd.DataFrame()\r\n",
        "df1"
      ],
      "execution_count": 254,
      "outputs": [
        {
          "output_type": "execute_result",
          "data": {
            "text/html": [
              "<div>\n",
              "<style scoped>\n",
              "    .dataframe tbody tr th:only-of-type {\n",
              "        vertical-align: middle;\n",
              "    }\n",
              "\n",
              "    .dataframe tbody tr th {\n",
              "        vertical-align: top;\n",
              "    }\n",
              "\n",
              "    .dataframe thead th {\n",
              "        text-align: right;\n",
              "    }\n",
              "</style>\n",
              "<table border=\"1\" class=\"dataframe\">\n",
              "  <thead>\n",
              "    <tr style=\"text-align: right;\">\n",
              "      <th></th>\n",
              "    </tr>\n",
              "  </thead>\n",
              "  <tbody>\n",
              "  </tbody>\n",
              "</table>\n",
              "</div>"
            ],
            "text/plain": [
              "Empty DataFrame\n",
              "Columns: []\n",
              "Index: []"
            ]
          },
          "metadata": {
            "tags": []
          },
          "execution_count": 254
        }
      ]
    },
    {
      "cell_type": "code",
      "metadata": {
        "colab": {
          "base_uri": "https://localhost:8080/",
          "height": 35
        },
        "id": "XlWIgYeIWKvA",
        "outputId": "d511f5af-cad1-42c9-fd73-1a63adc31bf3"
      },
      "source": [
        "allcols.index[0]"
      ],
      "execution_count": 237,
      "outputs": [
        {
          "output_type": "execute_result",
          "data": {
            "application/vnd.google.colaboratory.intrinsic+json": {
              "type": "string"
            },
            "text/plain": [
              "'Name SpecialtyUnnamed: 0AddressCityStateZipCountyPhone'"
            ]
          },
          "metadata": {
            "tags": []
          },
          "execution_count": 237
        }
      ]
    },
    {
      "cell_type": "code",
      "metadata": {
        "id": "Oz4ALuksW3O_"
      },
      "source": [
        "df1 =pd.DataFrame()\r\n",
        "for i in range(len(df)):\r\n",
        "  if ''.join(df[i].columns) == 'Name SpecialtyUnnamed: 0AddressCityStateZipCountyPhone':\r\n",
        "    df1 = df1.append(df[i])"
      ],
      "execution_count": 32,
      "outputs": []
    },
    {
      "cell_type": "code",
      "metadata": {
        "id": "ix2j1bqUZMMY"
      },
      "source": [
        "# df1.reset_index(drop=True, inplace=True)\r\n",
        "# print([x for x in df1.index])\r\n",
        "location_etal =  df1[~df1['Address'].isna()]\r\n",
        "name_etal = df1[df1['Address'].isna()]\r\n",
        "\r\n",
        "name_etal = name_etal[['Name Specialty']]"
      ],
      "execution_count": 262,
      "outputs": []
    },
    {
      "cell_type": "code",
      "metadata": {
        "colab": {
          "base_uri": "https://localhost:8080/",
          "height": 359
        },
        "id": "UOKoXv-CzNuy",
        "outputId": "d69b5bb9-0c92-4d37-9ada-33b26c10e6c0"
      },
      "source": [
        "name_etal.head(10)"
      ],
      "execution_count": 263,
      "outputs": [
        {
          "output_type": "execute_result",
          "data": {
            "text/html": [
              "<div>\n",
              "<style scoped>\n",
              "    .dataframe tbody tr th:only-of-type {\n",
              "        vertical-align: middle;\n",
              "    }\n",
              "\n",
              "    .dataframe tbody tr th {\n",
              "        vertical-align: top;\n",
              "    }\n",
              "\n",
              "    .dataframe thead th {\n",
              "        text-align: right;\n",
              "    }\n",
              "</style>\n",
              "<table border=\"1\" class=\"dataframe\">\n",
              "  <thead>\n",
              "    <tr style=\"text-align: right;\">\n",
              "      <th></th>\n",
              "      <th>Name Specialty</th>\n",
              "    </tr>\n",
              "  </thead>\n",
              "  <tbody>\n",
              "    <tr>\n",
              "      <th>0</th>\n",
              "      <td>Doshi, Simit M NEP</td>\n",
              "    </tr>\n",
              "    <tr>\n",
              "      <th>2</th>\n",
              "      <td>Gardner, Thomas A URO</td>\n",
              "    </tr>\n",
              "    <tr>\n",
              "      <th>4</th>\n",
              "      <td>Makar, Melissa S NEP</td>\n",
              "    </tr>\n",
              "    <tr>\n",
              "      <th>6</th>\n",
              "      <td>Taylor, Elizabeth A NPR</td>\n",
              "    </tr>\n",
              "    <tr>\n",
              "      <th>8</th>\n",
              "      <td>Coleman Jr, David A PSYD</td>\n",
              "    </tr>\n",
              "    <tr>\n",
              "      <th>10</th>\n",
              "      <td>Moore, Edward N CARD</td>\n",
              "    </tr>\n",
              "    <tr>\n",
              "      <th>13</th>\n",
              "      <td>Banuru, Sridhar  CARD</td>\n",
              "    </tr>\n",
              "    <tr>\n",
              "      <th>16</th>\n",
              "      <td>Bisby, Donald C POD</td>\n",
              "    </tr>\n",
              "    <tr>\n",
              "      <th>18</th>\n",
              "      <td>Cheesman, Michael P PA</td>\n",
              "    </tr>\n",
              "    <tr>\n",
              "      <th>20</th>\n",
              "      <td>Jairath, Umesh C CARD</td>\n",
              "    </tr>\n",
              "  </tbody>\n",
              "</table>\n",
              "</div>"
            ],
            "text/plain": [
              "              Name Specialty\n",
              "0         Doshi, Simit M NEP\n",
              "2      Gardner, Thomas A URO\n",
              "4       Makar, Melissa S NEP\n",
              "6    Taylor, Elizabeth A NPR\n",
              "8   Coleman Jr, David A PSYD\n",
              "10      Moore, Edward N CARD\n",
              "13     Banuru, Sridhar  CARD\n",
              "16       Bisby, Donald C POD\n",
              "18    Cheesman, Michael P PA\n",
              "20     Jairath, Umesh C CARD"
            ]
          },
          "metadata": {
            "tags": []
          },
          "execution_count": 263
        }
      ]
    },
    {
      "cell_type": "code",
      "metadata": {
        "id": "7KIVxXRExGnp"
      },
      "source": [
        "location_etal.head(10)"
      ],
      "execution_count": null,
      "outputs": []
    },
    {
      "cell_type": "code",
      "metadata": {
        "colab": {
          "base_uri": "https://localhost:8080/"
        },
        "id": "sp6g995UxGk7",
        "outputId": "1d9b4f0c-0d13-4bdd-d64a-76fb334ebbfe"
      },
      "source": [
        "name_etal.loc[1] = name_etal.loc[0]"
      ],
      "execution_count": 64,
      "outputs": [
        {
          "output_type": "stream",
          "text": [
            "/usr/local/lib/python3.7/dist-packages/pandas/core/indexing.py:670: SettingWithCopyWarning: \n",
            "A value is trying to be set on a copy of a slice from a DataFrame\n",
            "\n",
            "See the caveats in the documentation: https://pandas.pydata.org/pandas-docs/stable/user_guide/indexing.html#returning-a-view-versus-a-copy\n",
            "  iloc._setitem_with_indexer(indexer, value)\n"
          ],
          "name": "stderr"
        }
      ]
    },
    {
      "cell_type": "code",
      "metadata": {
        "id": "0H9IpszuxGiq"
      },
      "source": [
        ""
      ],
      "execution_count": 84,
      "outputs": []
    },
    {
      "cell_type": "code",
      "metadata": {
        "id": "JNp3EFnhxGdL"
      },
      "source": [
        "name_etal.sort_index()"
      ],
      "execution_count": null,
      "outputs": []
    },
    {
      "cell_type": "code",
      "metadata": {
        "id": "_6JhWS1P5tdk"
      },
      "source": [
        "name_etal.head()"
      ],
      "execution_count": null,
      "outputs": []
    },
    {
      "cell_type": "code",
      "metadata": {
        "id": "uBJaajKBxGaO"
      },
      "source": [
        "for i in name_etal.index:\r\n",
        "  if i < 15:\r\n",
        "    name_etal.loc[i]"
      ],
      "execution_count": 99,
      "outputs": []
    },
    {
      "cell_type": "code",
      "metadata": {
        "id": "0gShDeYT5Tcp"
      },
      "source": [
        "name_etal"
      ],
      "execution_count": null,
      "outputs": []
    },
    {
      "cell_type": "code",
      "metadata": {
        "id": "ZFnhspgE5UQr"
      },
      "source": [
        "[x for x in name_etal.index]"
      ],
      "execution_count": null,
      "outputs": []
    },
    {
      "cell_type": "code",
      "metadata": {
        "id": "XyJPVTLVxGfm"
      },
      "source": [
        "# we will use this\r\n",
        "name_etal.loc[1,:] = name_etal.loc[29541,:]"
      ],
      "execution_count": 160,
      "outputs": []
    },
    {
      "cell_type": "code",
      "metadata": {
        "id": "M-5-awrnS16K"
      },
      "source": [
        "name_etal"
      ],
      "execution_count": null,
      "outputs": []
    },
    {
      "cell_type": "code",
      "metadata": {
        "colab": {
          "base_uri": "https://localhost:8080/"
        },
        "id": "I6Syb5UPWAyj",
        "outputId": "b68997e7-8fbf-4230-e30b-e62070f4774d"
      },
      "source": [
        "indexOrder[-1]"
      ],
      "execution_count": 194,
      "outputs": [
        {
          "output_type": "execute_result",
          "data": {
            "text/plain": [
              "(12481, 14)"
            ]
          },
          "metadata": {
            "tags": []
          },
          "execution_count": 194
        }
      ]
    },
    {
      "cell_type": "markdown",
      "metadata": {
        "id": "ysm_HuzO_u3F"
      },
      "source": [
        "Here we create a row duplicator function."
      ]
    },
    {
      "cell_type": "code",
      "metadata": {
        "id": "zEBkYKYD5Vvv"
      },
      "source": [
        "# this function helps to fill doctor names for the multiple locations.\r\n",
        "# as an input it should take only \r\n",
        "def row_duplicator(df):\r\n",
        "  indexOrder = list(enumerate(df.index))\r\n",
        "  for i,j in indexOrder[:-1]:\r\n",
        "    if (indexOrder[i+1][1] > (indexOrder[i][1] +2)):\r\n",
        "      diff = indexOrder[i+1][1] - indexOrder[i][1]  -2\r\n",
        "      while diff > 0:\r\n",
        "        df.loc[j+diff,:] = df.loc[j,:]\r\n",
        "        diff = diff - 1\r\n",
        "  df = df.sort_index()\r\n",
        "  return df"
      ],
      "execution_count": 255,
      "outputs": []
    },
    {
      "cell_type": "code",
      "metadata": {
        "id": "IlHdE2gwi6wU"
      },
      "source": [
        "#name_etal1 = row_duplicator(name_etal)\r\n",
        "name_etal1.head(20)"
      ],
      "execution_count": null,
      "outputs": []
    },
    {
      "cell_type": "code",
      "metadata": {
        "id": "Xoff9u97kNY3"
      },
      "source": [
        "name_etal1.tail(20)"
      ],
      "execution_count": null,
      "outputs": []
    },
    {
      "cell_type": "code",
      "metadata": {
        "colab": {
          "base_uri": "https://localhost:8080/"
        },
        "id": "D_OCdKmjdgS2",
        "outputId": "d8809cb0-6fc6-44f9-da15-dcb9bc843ff3"
      },
      "source": [
        "len(name_etal)"
      ],
      "execution_count": 269,
      "outputs": [
        {
          "output_type": "execute_result",
          "data": {
            "text/plain": [
              "12480"
            ]
          },
          "metadata": {
            "tags": []
          },
          "execution_count": 269
        }
      ]
    },
    {
      "cell_type": "code",
      "metadata": {
        "colab": {
          "base_uri": "https://localhost:8080/"
        },
        "id": "KXSzN74Mj3BE",
        "outputId": "96781c99-bafb-4f6c-b8bb-73236ebe912d"
      },
      "source": [
        "len(name_etal1)"
      ],
      "execution_count": 270,
      "outputs": [
        {
          "output_type": "execute_result",
          "data": {
            "text/plain": [
              "17316"
            ]
          },
          "metadata": {
            "tags": []
          },
          "execution_count": 270
        }
      ]
    },
    {
      "cell_type": "code",
      "metadata": {
        "colab": {
          "base_uri": "https://localhost:8080/"
        },
        "id": "pDM52VShmVLX",
        "outputId": "96440923-3e93-4b2a-c1ea-3971cb668be3"
      },
      "source": [
        "len(location_etal)"
      ],
      "execution_count": 282,
      "outputs": [
        {
          "output_type": "execute_result",
          "data": {
            "text/plain": [
              "17062"
            ]
          },
          "metadata": {
            "tags": []
          },
          "execution_count": 282
        }
      ]
    },
    {
      "cell_type": "code",
      "metadata": {
        "colab": {
          "base_uri": "https://localhost:8080/"
        },
        "id": "64qSLHummh5t",
        "outputId": "47498fea-6916-424f-d1de-9b36f5bfeea1"
      },
      "source": [
        "#these are the hospitals without Phsycian\r\n",
        "mask = ~name_etal1['Name Specialty'].str.split(',', expand=True)[2].isna()\r\n",
        "name_etal1['Name Specialty'].str.split(',', expand=True)[2][mask]"
      ],
      "execution_count": 283,
      "outputs": [
        {
          "output_type": "execute_result",
          "data": {
            "text/plain": [
              "310        FMP\n",
              "1352       ORT\n",
              "1410       SUR\n",
              "1467       GER\n",
              "1501      CARD\n",
              "         ...  \n",
              "18609       PM\n",
              "28254      GAS\n",
              "28969      CTS\n",
              "28970      CTS\n",
              "29210      GAS\n",
              "Name: 2, Length: 106, dtype: object"
            ]
          },
          "metadata": {
            "tags": []
          },
          "execution_count": 283
        }
      ]
    },
    {
      "cell_type": "markdown",
      "metadata": {
        "id": "iMfTsT9qB2y-"
      },
      "source": [
        "Here we look for State Names to remove from the data frame."
      ]
    },
    {
      "cell_type": "code",
      "metadata": {
        "id": "mpXZKqAvhfqs"
      },
      "source": [
        "states = {\r\n",
        "        'AK': 'Alaska',\r\n",
        "        'AL': 'Alabama',\r\n",
        "        'AR': 'Arkansas',\r\n",
        "        'AS': 'American Samoa',\r\n",
        "        'AZ': 'Arizona',\r\n",
        "        'CA': 'California',\r\n",
        "        'CO': 'Colorado',\r\n",
        "        'CT': 'Connecticut',\r\n",
        "        'DC': 'District of Columbia',\r\n",
        "        'DE': 'Delaware',\r\n",
        "        'FL': 'Florida',\r\n",
        "        'GA': 'Georgia',\r\n",
        "        'GU': 'Guam',\r\n",
        "        'HI': 'Hawaii',\r\n",
        "        'IA': 'Iowa',\r\n",
        "        'ID': 'Idaho',\r\n",
        "        'IL': 'Illinois',\r\n",
        "        'IN': 'Indiana',\r\n",
        "        'KS': 'Kansas',\r\n",
        "        'KY': 'Kentucky',\r\n",
        "        'LA': 'Louisiana',\r\n",
        "        'MA': 'Massachusetts',\r\n",
        "        'MD': 'Maryland',\r\n",
        "        'ME': 'Maine',\r\n",
        "        'MI': 'Michigan',\r\n",
        "        'MN': 'Minnesota',\r\n",
        "        'MO': 'Missouri',\r\n",
        "        'MP': 'Northern Mariana Islands',\r\n",
        "        'MS': 'Mississippi',\r\n",
        "        'MT': 'Montana',\r\n",
        "        'NA': 'National',\r\n",
        "        'NC': 'North Carolina',\r\n",
        "        'ND': 'North Dakota',\r\n",
        "        'NE': 'Nebraska',\r\n",
        "        'NH': 'New Hampshire',\r\n",
        "        'NJ': 'New Jersey',\r\n",
        "        'NM': 'New Mexico',\r\n",
        "        'NV': 'Nevada',\r\n",
        "        'NY': 'New York',\r\n",
        "        'OH': 'Ohio',\r\n",
        "        'OK': 'Oklahoma',\r\n",
        "        'OR': 'Oregon',\r\n",
        "        'PA': 'Pennsylvania',\r\n",
        "        'PR': 'Puerto Rico',\r\n",
        "        'RI': 'Rhode Island',\r\n",
        "        'SC': 'South Carolina',\r\n",
        "        'SD': 'South Dakota',\r\n",
        "        'TN': 'Tennessee',\r\n",
        "        'TX': 'Texas',\r\n",
        "        'UT': 'Utah',\r\n",
        "        'VA': 'Virginia',\r\n",
        "        'VI': 'Virgin Islands',\r\n",
        "        'VT': 'Vermont',\r\n",
        "        'WA': 'Washington',\r\n",
        "        'WI': 'Wisconsin',\r\n",
        "        'WV': 'West Virginia',\r\n",
        "        'WY': 'Wyoming'\r\n",
        "}"
      ],
      "execution_count": 285,
      "outputs": []
    },
    {
      "cell_type": "code",
      "metadata": {
        "colab": {
          "base_uri": "https://localhost:8080/",
          "height": 297
        },
        "id": "xbogrCO8CEPa",
        "outputId": "ba5d68e3-949e-4cbf-ea3b-b983667c34bf"
      },
      "source": [
        "name_etal[name_etal['Name Specialty'].isin(states.values())]"
      ],
      "execution_count": 325,
      "outputs": [
        {
          "output_type": "execute_result",
          "data": {
            "text/html": [
              "<div>\n",
              "<style scoped>\n",
              "    .dataframe tbody tr th:only-of-type {\n",
              "        vertical-align: middle;\n",
              "    }\n",
              "\n",
              "    .dataframe tbody tr th {\n",
              "        vertical-align: top;\n",
              "    }\n",
              "\n",
              "    .dataframe thead th {\n",
              "        text-align: right;\n",
              "    }\n",
              "</style>\n",
              "<table border=\"1\" class=\"dataframe\">\n",
              "  <thead>\n",
              "    <tr style=\"text-align: right;\">\n",
              "      <th></th>\n",
              "      <th>Name Specialty</th>\n",
              "    </tr>\n",
              "  </thead>\n",
              "  <tbody>\n",
              "    <tr>\n",
              "      <th>244</th>\n",
              "      <td>Indiana</td>\n",
              "    </tr>\n",
              "    <tr>\n",
              "      <th>18824</th>\n",
              "      <td>Kentucky</td>\n",
              "    </tr>\n",
              "    <tr>\n",
              "      <th>18887</th>\n",
              "      <td>Maine</td>\n",
              "    </tr>\n",
              "    <tr>\n",
              "      <th>18892</th>\n",
              "      <td>Michigan</td>\n",
              "    </tr>\n",
              "    <tr>\n",
              "      <th>27473</th>\n",
              "      <td>Indiana</td>\n",
              "    </tr>\n",
              "    <tr>\n",
              "      <th>27478</th>\n",
              "      <td>Michigan</td>\n",
              "    </tr>\n",
              "    <tr>\n",
              "      <th>28151</th>\n",
              "      <td>Minnesota</td>\n",
              "    </tr>\n",
              "    <tr>\n",
              "      <th>28156</th>\n",
              "      <td>Ohio</td>\n",
              "    </tr>\n",
              "  </tbody>\n",
              "</table>\n",
              "</div>"
            ],
            "text/plain": [
              "      Name Specialty\n",
              "244          Indiana\n",
              "18824       Kentucky\n",
              "18887          Maine\n",
              "18892       Michigan\n",
              "27473        Indiana\n",
              "27478       Michigan\n",
              "28151      Minnesota\n",
              "28156           Ohio"
            ]
          },
          "metadata": {
            "tags": []
          },
          "execution_count": 325
        }
      ]
    },
    {
      "cell_type": "code",
      "metadata": {
        "id": "y-XcmElWa8yb"
      },
      "source": [
        "dup = name_etal.duplicated()"
      ],
      "execution_count": 312,
      "outputs": []
    },
    {
      "cell_type": "code",
      "metadata": {
        "colab": {
          "base_uri": "https://localhost:8080/",
          "height": 419
        },
        "id": "tTdF_zm-EOHa",
        "outputId": "23c258a5-46a2-4a4b-eec8-39d6e010cda4"
      },
      "source": [
        "name_etal[dup]"
      ],
      "execution_count": 313,
      "outputs": [
        {
          "output_type": "execute_result",
          "data": {
            "text/html": [
              "<div>\n",
              "<style scoped>\n",
              "    .dataframe tbody tr th:only-of-type {\n",
              "        vertical-align: middle;\n",
              "    }\n",
              "\n",
              "    .dataframe tbody tr th {\n",
              "        vertical-align: top;\n",
              "    }\n",
              "\n",
              "    .dataframe thead th {\n",
              "        text-align: right;\n",
              "    }\n",
              "</style>\n",
              "<table border=\"1\" class=\"dataframe\">\n",
              "  <thead>\n",
              "    <tr style=\"text-align: right;\">\n",
              "      <th></th>\n",
              "      <th>Name Specialty</th>\n",
              "    </tr>\n",
              "  </thead>\n",
              "  <tbody>\n",
              "    <tr>\n",
              "      <th>34</th>\n",
              "      <td>Moore, Edward N CARD</td>\n",
              "    </tr>\n",
              "    <tr>\n",
              "      <th>57</th>\n",
              "      <td>Wepsic, Richard A CARD</td>\n",
              "    </tr>\n",
              "    <tr>\n",
              "      <th>66</th>\n",
              "      <td>Bisby, Donald C POD</td>\n",
              "    </tr>\n",
              "    <tr>\n",
              "      <th>68</th>\n",
              "      <td>Cheesman, Michael P PA</td>\n",
              "    </tr>\n",
              "    <tr>\n",
              "      <th>85</th>\n",
              "      <td>Bisby, Donald C POD</td>\n",
              "    </tr>\n",
              "    <tr>\n",
              "      <th>...</th>\n",
              "      <td>...</td>\n",
              "    </tr>\n",
              "    <tr>\n",
              "      <th>29527</th>\n",
              "      <td>PT</td>\n",
              "    </tr>\n",
              "    <tr>\n",
              "      <th>29529</th>\n",
              "      <td>PT</td>\n",
              "    </tr>\n",
              "    <tr>\n",
              "      <th>29531</th>\n",
              "      <td>Ali, Syed S CARD</td>\n",
              "    </tr>\n",
              "    <tr>\n",
              "      <th>29535</th>\n",
              "      <td>Alo, Mohammed S CARD</td>\n",
              "    </tr>\n",
              "    <tr>\n",
              "      <th>29538</th>\n",
              "      <td>Alo, Sinan  CARD</td>\n",
              "    </tr>\n",
              "  </tbody>\n",
              "</table>\n",
              "<p>5273 rows × 1 columns</p>\n",
              "</div>"
            ],
            "text/plain": [
              "               Name Specialty\n",
              "34       Moore, Edward N CARD\n",
              "57     Wepsic, Richard A CARD\n",
              "66        Bisby, Donald C POD\n",
              "68     Cheesman, Michael P PA\n",
              "85        Bisby, Donald C POD\n",
              "...                       ...\n",
              "29527                      PT\n",
              "29529                      PT\n",
              "29531        Ali, Syed S CARD\n",
              "29535    Alo, Mohammed S CARD\n",
              "29538        Alo, Sinan  CARD\n",
              "\n",
              "[5273 rows x 1 columns]"
            ]
          },
          "metadata": {
            "tags": []
          },
          "execution_count": 313
        }
      ]
    },
    {
      "cell_type": "code",
      "metadata": {
        "id": "IN7rye4aEOEv"
      },
      "source": [
        "specialties: {  \r\n",
        "'PLS': 'Plastic Surgery',\r\n",
        "'PM': 'Pain Management',\r\n",
        "'PMR': 'Physical & Medical Rehab',\r\n",
        "'PNM': 'Perinatal Medicine',\r\n",
        "'POD': 'Podiatry',\r\n",
        "'PODS': 'Podiatry Surgery',\r\n",
        "'PREVENT': 'Preventative Medicine',\r\n",
        "'PRO': 'Proctology',\r\n",
        "'PROSTH': 'Prosthodontist',\r\n",
        "'PSY': 'Psychiatry',\r\n",
        "'PSYCA': 'Psychology/Child And Adolescent',\r\n",
        "'PSYD': 'Psychology',\r\n",
        "'PT': 'Physical Therapy',\r\n",
        "'PTH': 'Pathology',\r\n",
        "'PUD': 'Pulmonary Disease',\r\n",
        "'PULCC': 'Pulmonary & Critical Care Medicine',\r\n",
        "'PVS': 'Peripheral Vascular Surgery',\r\n",
        "'RAD': 'Radiology',\r\n",
        "'RADINT': 'Radiology-Interventional',\r\n",
        "'RADVAS': 'Radiology-Vascular',\r\n",
        "'RD': 'Registered Dietitian',\r\n",
        "'REND': 'Reproductive Endocrinology',\r\n",
        "'RHU': 'Rheumatology',\r\n",
        "'RN': 'Registerd Nurse',\r\n",
        "'RON': 'Radiation Oncology',\r\n",
        "'SGONC': 'Surgical Oncology',\r\n",
        "'SLP': 'Sleep Disorders',\r\n",
        "'SPCH': 'Speech Pathologist',\r\n",
        "'SPM': 'Sports Medicine',\r\n",
        "'SUR': 'Surgery',\r\n",
        "'SW': 'Social Worker',\r\n",
        "'THORS': 'Thoracic Surgery',\r\n",
        "'TRANS': 'Transplant Surgery',\r\n",
        "'TRS': 'Trauma Surgery',\r\n",
        "'URGYN': 'Urogynecology',\r\n",
        "'URO': 'Urology',\r\n",
        "'VASRG': 'Vascular Surgery',\r\n",
        "'WCH': 'Wound Care Hyperbaric Medicine',\r\n",
        "'ADD': 'Addictionology',\r\n",
        "'ADVHEART' : 'Advanced Heart Failure and Transplant Cardiology',\r\n",
        "'AERO': 'Aerospace Medicine',\r\n",
        "'ALG': 'Allergy and Immunology',\r\n",
        "'ANS': 'Anesthesiology',\r\n",
        "'AUD': 'Audiology',\r\n",
        "'BCBA': 'ABA Therapy',\r\n",
        "'CAA': 'Certified Anesthesiologist Assistant',\r\n",
        "'CARD': 'Cardiovascular Disease',\r\n",
        "'CCM': 'Critical Care Medicine',\r\n",
        "'CHI': 'Chiropractics',\r\n",
        "'CNS': 'Clinical Nurse Specialist',\r\n",
        "'CPHAR': 'Clinical Pharmacology',\r\n",
        "'CPSY': 'Child & Adolescent Psychiatry',\r\n",
        "'CRNA': 'Nurse Anesthetist',\r\n",
        "'CRS': 'Colon Rectal Surgery',\r\n",
        "'CTS': 'Cardiovascular Surgery',\r\n",
        "'DDS': 'Dentistry',\r\n",
        "'DER': 'Dermatology',\r\n",
        "'DERP': 'Dermatopathology',\r\n",
        "'ELP': 'Electrophysiologist',\r\n",
        "'EMDR': 'Eye Movement Desensitization and Reprocessing',\r\n",
        "'EMR': 'Emergency Medicine',\r\n",
        "'END': 'Endocrinology',\r\n",
        "'ENT': 'Otolaryngology',\r\n",
        "'FMP': 'Family Medicine',\r\n",
        "'FMPR': 'Family Medicine Residents',\r\n",
        "'GAS': 'Gastroenterology',\r\n",
        "'GEN': 'Genetics',\r\n",
        "'GENCOUN': 'Genetic Counselor',\r\n",
        "'GEP': 'General Practice',\r\n",
        "'GER': 'Geriatrics',\r\n",
        "'GES': 'General Surgery',\r\n",
        "'GYN': 'Gynecology',\r\n",
        "'GYONC': 'Gynecologic Oncology',\r\n",
        "'HAND': 'Surgery -hand',\r\n",
        "'HEAR': 'Hearing Clinic',\r\n",
        "'HEM': 'Hematology',\r\n",
        "'HOSPICE': 'Hospice and Palliative Care',\r\n",
        "'HOST': 'Hospitalist',\r\n",
        "'IFD': 'Infectious Disease',\r\n",
        "'IMM': 'Immunology',\r\n",
        "'INM': 'Internal Medicine',\r\n",
        "'INTMED': 'Integrative Medicine',\r\n",
        "'LMFT': 'Marriage Family Therapist',\r\n",
        "'LMHC': 'Mental Health Counselor',\r\n",
        "'LPCC': 'Licensed Professional Clinical Counselor',\r\n",
        "'MFM': 'Maternal Fetal Medicine',\r\n",
        "'MIDW': 'Nurse Midwife',\r\n",
        "'NEP': 'Nephrology',\r\n",
        "'NER': 'Neurology',\r\n",
        "'NEUPH': 'Neurophysiology',\r\n",
        "'NEUPS': 'Neuropsychologist',\r\n",
        "'NEUROD': 'Neurodevelopmental Disabilities',\r\n",
        "'NPM': 'Neonatology',\r\n",
        "'NPR': 'Nurse Practitioner',\r\n",
        "'NRS': 'Neurosurgery',\r\n",
        "'NUCLR': 'Nuclear Medicine',\r\n",
        "'OBG': 'Ob/Gyn',\r\n",
        "'OBS': 'Obstetrics',\r\n",
        "'OCM': 'Occupational Medicine',\r\n",
        "'OCTHR': 'Occupational Therapy',\r\n",
        "'ONCHE': 'Oncology & Hematology',\r\n",
        "'OPH': 'Ophthalmology',\r\n",
        "'OPS': 'Oro-facial Plastic Surgery',\r\n",
        "'OPTRY': 'Optometry',\r\n",
        "'ORALP': 'Oral Pathology',\r\n",
        "'ORS': 'Orthopedic Surgery',\r\n",
        "'ORSU': 'Oral Surgery',\r\n",
        "'ORT': 'Orthopedics',\r\n",
        "'OSTSG': 'Osteopathic Surgery',\r\n",
        "'PA': 'Physician Assistant',\r\n",
        "'PED': 'Pediatrics',\r\n",
        "'PEDAL': 'Pediatric Allergy & Immunology',\r\n",
        "'PEDAM': 'Pediatric Adolescent Medicine',\r\n",
        "'PEDAN': 'Pediatric Anesthesiology',\r\n",
        "'PEDCA': 'Pediatric Cardiology',\r\n",
        "'PEDCC': 'Pediatric Critical Care Medicine',\r\n",
        "'PEDCS': 'Pediatric Cardio-thoracic Surgery',\r\n",
        "'PEDDB': 'Pediatrics Developmental-Behavioral',\r\n",
        "'PEDEM': 'Pediatric Emergency Medicine',\r\n",
        "'PEDEN': 'Pediatric Endocrinology',\r\n",
        "'PEDGA': 'Pediatric Gastroenterology',\r\n",
        "'PEDH': 'Pediatric Hospitalist',\r\n",
        "'PEDHO': 'Pediatric Hematology/Oncology',\r\n",
        "'PEDHS': 'Pediatric Hospice and Palliative Care',\r\n",
        "'PEDIC': 'Pediatric Intensive Care',\r\n",
        "'PEDIF': 'Pediatric Infectious Disease',\r\n",
        "'PEDIN': 'Pediatrics Internal Medicine',\r\n",
        "'PEDMT': 'Pediatric Medical Toxocology',\r\n",
        "'PEDNE': 'Pediatric Neurology',\r\n",
        "'PEDNP': 'Pediatric Neonatal-perinatal Medicine',\r\n",
        "'PEDNS': 'Pediatric Neurological Surgery',\r\n",
        "'PEDOP': 'Pediatric Ophthalmology',\r\n",
        "'PEDOS': 'Pediatric Orthopaedic Surgery',\r\n",
        "'PEDOT': 'Pediatric Otolaryngology',\r\n",
        "'PEDPC': 'Pediatric Pulmonary & Critical',\r\n",
        "'PEDPH': 'Pediatric Nephrology',\r\n",
        "'PEDPM': 'Pediatric Physicial Medicine',\r\n",
        "'PEDPU': 'Pediatric Pulmonology',\r\n",
        "'PEDRA': 'Pediatric Radiology',\r\n",
        "'PEDRH': 'Pediatric Rheumatology',\r\n",
        "'PEDSU': 'Pediatric Surgery',\r\n",
        "'PEDUR': 'Pediatric Urology',\r\n",
        "'PELVIC': 'Female Pelvic Med/Reconstructive Surgery',\r\n",
        "'PERA': 'Perinatology',\r\n",
        "'PhD': 'Psychology'}"
      ],
      "execution_count": 330,
      "outputs": []
    },
    {
      "cell_type": "code",
      "metadata": {
        "id": "wGsOv1egEOCK"
      },
      "source": [
        ""
      ],
      "execution_count": null,
      "outputs": []
    },
    {
      "cell_type": "code",
      "metadata": {
        "id": "IPP-M_L_EN_Q"
      },
      "source": [
        ""
      ],
      "execution_count": null,
      "outputs": []
    },
    {
      "cell_type": "code",
      "metadata": {
        "id": "jUrDWFItEN8p"
      },
      "source": [
        ""
      ],
      "execution_count": null,
      "outputs": []
    },
    {
      "cell_type": "code",
      "metadata": {
        "id": "Hr0W9I1REN6D"
      },
      "source": [
        ""
      ],
      "execution_count": null,
      "outputs": []
    },
    {
      "cell_type": "code",
      "metadata": {
        "id": "aWhU_O6dEN3K"
      },
      "source": [
        ""
      ],
      "execution_count": null,
      "outputs": []
    },
    {
      "cell_type": "code",
      "metadata": {
        "id": "VjmXlY_DEN0W"
      },
      "source": [
        ""
      ],
      "execution_count": null,
      "outputs": []
    },
    {
      "cell_type": "code",
      "metadata": {
        "id": "ymk9WsmzENxc"
      },
      "source": [
        ""
      ],
      "execution_count": null,
      "outputs": []
    },
    {
      "cell_type": "code",
      "metadata": {
        "id": "7MM-iiS1ENuq"
      },
      "source": [
        ""
      ],
      "execution_count": null,
      "outputs": []
    },
    {
      "cell_type": "code",
      "metadata": {
        "id": "fTQJ-fUZENsP"
      },
      "source": [
        ""
      ],
      "execution_count": null,
      "outputs": []
    },
    {
      "cell_type": "code",
      "metadata": {
        "id": "pve7H_kMENpO"
      },
      "source": [
        ""
      ],
      "execution_count": null,
      "outputs": []
    },
    {
      "cell_type": "code",
      "metadata": {
        "id": "Zhnvkr6SENmi"
      },
      "source": [
        ""
      ],
      "execution_count": null,
      "outputs": []
    },
    {
      "cell_type": "code",
      "metadata": {
        "id": "4-0huSpCENkI"
      },
      "source": [
        ""
      ],
      "execution_count": null,
      "outputs": []
    },
    {
      "cell_type": "code",
      "metadata": {
        "id": "GRTwTWgXENhN"
      },
      "source": [
        ""
      ],
      "execution_count": null,
      "outputs": []
    },
    {
      "cell_type": "code",
      "metadata": {
        "id": "xTbylMhvENen"
      },
      "source": [
        ""
      ],
      "execution_count": null,
      "outputs": []
    },
    {
      "cell_type": "code",
      "metadata": {
        "id": "d9n6twfzU7n-"
      },
      "source": [
        "klm = name_etal[:10]"
      ],
      "execution_count": 178,
      "outputs": []
    },
    {
      "cell_type": "code",
      "metadata": {
        "id": "_4mLtN9XVAlA"
      },
      "source": [
        "klm['Name Specialty'].str.split(',', expand=True)[1].str.split(' ', expand=True)"
      ],
      "execution_count": null,
      "outputs": []
    },
    {
      "cell_type": "code",
      "metadata": {
        "id": "RGyepsFSVetf"
      },
      "source": [
        "klm['Name Specialty'].str.split(',', expand=True)[0].str.split(' ', expand=True)"
      ],
      "execution_count": null,
      "outputs": []
    },
    {
      "cell_type": "code",
      "metadata": {
        "colab": {
          "base_uri": "https://localhost:8080/"
        },
        "id": "LfTu9_J3K1K3",
        "outputId": "03562510-20b0-482c-bf25-1a32582a68ed"
      },
      "source": [
        "indexOrder[:20]"
      ],
      "execution_count": 144,
      "outputs": [
        {
          "output_type": "execute_result",
          "data": {
            "text/plain": [
              "[(0, 0),\n",
              " (1, 2),\n",
              " (2, 4),\n",
              " (3, 6),\n",
              " (4, 8),\n",
              " (5, 10),\n",
              " (6, 13),\n",
              " (7, 16),\n",
              " (8, 18),\n",
              " (9, 20),\n",
              " (10, 22),\n",
              " (11, 24),\n",
              " (12, 27),\n",
              " (13, 29),\n",
              " (14, 32),\n",
              " (15, 34),\n",
              " (16, 37),\n",
              " (17, 40),\n",
              " (18, 43),\n",
              " (19, 46)]"
            ]
          },
          "metadata": {
            "tags": []
          },
          "execution_count": 144
        }
      ]
    },
    {
      "cell_type": "code",
      "metadata": {
        "colab": {
          "base_uri": "https://localhost:8080/"
        },
        "id": "B0p6u63a5VtR",
        "outputId": "092821ce-2f6c-4643-ba6d-d4abaab67745"
      },
      "source": [
        "list(enumerate(name_etal.index))[1][1]"
      ],
      "execution_count": 122,
      "outputs": [
        {
          "output_type": "execute_result",
          "data": {
            "text/plain": [
              "2"
            ]
          },
          "metadata": {
            "tags": []
          },
          "execution_count": 122
        }
      ]
    },
    {
      "cell_type": "code",
      "metadata": {
        "colab": {
          "base_uri": "https://localhost:8080/",
          "height": 204
        },
        "id": "XHNWfHur5Vq2",
        "outputId": "773b38c8-bcfa-4985-c150-95d503d0ad75"
      },
      "source": [
        "df1.head(5)"
      ],
      "execution_count": 149,
      "outputs": [
        {
          "output_type": "execute_result",
          "data": {
            "text/html": [
              "<div>\n",
              "<style scoped>\n",
              "    .dataframe tbody tr th:only-of-type {\n",
              "        vertical-align: middle;\n",
              "    }\n",
              "\n",
              "    .dataframe tbody tr th {\n",
              "        vertical-align: top;\n",
              "    }\n",
              "\n",
              "    .dataframe thead th {\n",
              "        text-align: right;\n",
              "    }\n",
              "</style>\n",
              "<table border=\"1\" class=\"dataframe\">\n",
              "  <thead>\n",
              "    <tr style=\"text-align: right;\">\n",
              "      <th></th>\n",
              "      <th>Name Specialty</th>\n",
              "      <th>Unnamed: 0</th>\n",
              "      <th>Address</th>\n",
              "      <th>City</th>\n",
              "      <th>State</th>\n",
              "      <th>Zip</th>\n",
              "      <th>County</th>\n",
              "      <th>Phone</th>\n",
              "    </tr>\n",
              "  </thead>\n",
              "  <tbody>\n",
              "    <tr>\n",
              "      <th>0</th>\n",
              "      <td>Doshi, Simit M NEP</td>\n",
              "      <td>NaN</td>\n",
              "      <td>NaN</td>\n",
              "      <td>NaN</td>\n",
              "      <td>NaN</td>\n",
              "      <td>NaN</td>\n",
              "      <td>NaN</td>\n",
              "      <td>NaN</td>\n",
              "    </tr>\n",
              "    <tr>\n",
              "      <th>1</th>\n",
              "      <td>University Medical Diagnostic Assoc</td>\n",
              "      <td>NaN</td>\n",
              "      <td>7301 Solution Center</td>\n",
              "      <td>Chicago</td>\n",
              "      <td>IL</td>\n",
              "      <td>60677.0</td>\n",
              "      <td>Cook</td>\n",
              "      <td>(800) 741-4250</td>\n",
              "    </tr>\n",
              "    <tr>\n",
              "      <th>2</th>\n",
              "      <td>Gardner, Thomas A URO</td>\n",
              "      <td>NaN</td>\n",
              "      <td>NaN</td>\n",
              "      <td>NaN</td>\n",
              "      <td>NaN</td>\n",
              "      <td>NaN</td>\n",
              "      <td>NaN</td>\n",
              "      <td>NaN</td>\n",
              "    </tr>\n",
              "    <tr>\n",
              "      <th>3</th>\n",
              "      <td>University Urologists PC Inc.</td>\n",
              "      <td>NaN</td>\n",
              "      <td>7614 Solution Center</td>\n",
              "      <td>Chicago</td>\n",
              "      <td>IL</td>\n",
              "      <td>60677.0</td>\n",
              "      <td>Cook</td>\n",
              "      <td>(317) 962-4777</td>\n",
              "    </tr>\n",
              "    <tr>\n",
              "      <th>4</th>\n",
              "      <td>Makar, Melissa S NEP</td>\n",
              "      <td>NaN</td>\n",
              "      <td>NaN</td>\n",
              "      <td>NaN</td>\n",
              "      <td>NaN</td>\n",
              "      <td>NaN</td>\n",
              "      <td>NaN</td>\n",
              "      <td>NaN</td>\n",
              "    </tr>\n",
              "  </tbody>\n",
              "</table>\n",
              "</div>"
            ],
            "text/plain": [
              "                        Name Specialty  Unnamed: 0  ... County           Phone\n",
              "0                   Doshi, Simit M NEP         NaN  ...    NaN             NaN\n",
              "1  University Medical Diagnostic Assoc         NaN  ...   Cook  (800) 741-4250\n",
              "2                Gardner, Thomas A URO         NaN  ...    NaN             NaN\n",
              "3        University Urologists PC Inc.         NaN  ...   Cook  (317) 962-4777\n",
              "4                 Makar, Melissa S NEP         NaN  ...    NaN             NaN\n",
              "\n",
              "[5 rows x 8 columns]"
            ]
          },
          "metadata": {
            "tags": []
          },
          "execution_count": 149
        }
      ]
    },
    {
      "cell_type": "code",
      "metadata": {
        "colab": {
          "base_uri": "https://localhost:8080/"
        },
        "id": "3x4INmiq5VoZ",
        "outputId": "d09a1ed8-c699-4e3b-bcb5-42dce0d98bad"
      },
      "source": [
        "indexOrder[4][1]"
      ],
      "execution_count": 129,
      "outputs": [
        {
          "output_type": "execute_result",
          "data": {
            "text/plain": [
              "8"
            ]
          },
          "metadata": {
            "tags": []
          },
          "execution_count": 129
        }
      ]
    },
    {
      "cell_type": "code",
      "metadata": {
        "colab": {
          "base_uri": "https://localhost:8080/",
          "height": 359
        },
        "id": "qN5nUdf85Vll",
        "outputId": "0d5be76b-f802-4ca7-88dd-8d5c962ed095"
      },
      "source": [
        "name_etal.head(10)"
      ],
      "execution_count": 152,
      "outputs": [
        {
          "output_type": "execute_result",
          "data": {
            "text/html": [
              "<div>\n",
              "<style scoped>\n",
              "    .dataframe tbody tr th:only-of-type {\n",
              "        vertical-align: middle;\n",
              "    }\n",
              "\n",
              "    .dataframe tbody tr th {\n",
              "        vertical-align: top;\n",
              "    }\n",
              "\n",
              "    .dataframe thead th {\n",
              "        text-align: right;\n",
              "    }\n",
              "</style>\n",
              "<table border=\"1\" class=\"dataframe\">\n",
              "  <thead>\n",
              "    <tr style=\"text-align: right;\">\n",
              "      <th></th>\n",
              "      <th>Name Specialty</th>\n",
              "    </tr>\n",
              "  </thead>\n",
              "  <tbody>\n",
              "    <tr>\n",
              "      <th>0</th>\n",
              "      <td>Doshi, Simit M NEP</td>\n",
              "    </tr>\n",
              "    <tr>\n",
              "      <th>2</th>\n",
              "      <td>Gardner, Thomas A URO</td>\n",
              "    </tr>\n",
              "    <tr>\n",
              "      <th>4</th>\n",
              "      <td>Makar, Melissa S NEP</td>\n",
              "    </tr>\n",
              "    <tr>\n",
              "      <th>6</th>\n",
              "      <td>Taylor, Elizabeth A NPR</td>\n",
              "    </tr>\n",
              "    <tr>\n",
              "      <th>8</th>\n",
              "      <td>Coleman Jr, David A PSYD</td>\n",
              "    </tr>\n",
              "    <tr>\n",
              "      <th>10</th>\n",
              "      <td>Moore, Edward N CARD</td>\n",
              "    </tr>\n",
              "    <tr>\n",
              "      <th>13</th>\n",
              "      <td>Banuru, Sridhar  CARD</td>\n",
              "    </tr>\n",
              "    <tr>\n",
              "      <th>16</th>\n",
              "      <td>Bisby, Donald C POD</td>\n",
              "    </tr>\n",
              "    <tr>\n",
              "      <th>18</th>\n",
              "      <td>Cheesman, Michael P PA</td>\n",
              "    </tr>\n",
              "    <tr>\n",
              "      <th>20</th>\n",
              "      <td>Jairath, Umesh C CARD</td>\n",
              "    </tr>\n",
              "  </tbody>\n",
              "</table>\n",
              "</div>"
            ],
            "text/plain": [
              "              Name Specialty\n",
              "0         Doshi, Simit M NEP\n",
              "2      Gardner, Thomas A URO\n",
              "4       Makar, Melissa S NEP\n",
              "6    Taylor, Elizabeth A NPR\n",
              "8   Coleman Jr, David A PSYD\n",
              "10      Moore, Edward N CARD\n",
              "13     Banuru, Sridhar  CARD\n",
              "16       Bisby, Donald C POD\n",
              "18    Cheesman, Michael P PA\n",
              "20     Jairath, Umesh C CARD"
            ]
          },
          "metadata": {
            "tags": []
          },
          "execution_count": 152
        }
      ]
    },
    {
      "cell_type": "code",
      "metadata": {
        "colab": {
          "base_uri": "https://localhost:8080/",
          "height": 622
        },
        "id": "3-9gYH675Vf-",
        "outputId": "e5fe5a66-b770-438c-d39a-c6ebc4e78f84"
      },
      "source": [
        "location_etal.head(20)"
      ],
      "execution_count": 151,
      "outputs": [
        {
          "output_type": "execute_result",
          "data": {
            "text/html": [
              "<div>\n",
              "<style scoped>\n",
              "    .dataframe tbody tr th:only-of-type {\n",
              "        vertical-align: middle;\n",
              "    }\n",
              "\n",
              "    .dataframe tbody tr th {\n",
              "        vertical-align: top;\n",
              "    }\n",
              "\n",
              "    .dataframe thead th {\n",
              "        text-align: right;\n",
              "    }\n",
              "</style>\n",
              "<table border=\"1\" class=\"dataframe\">\n",
              "  <thead>\n",
              "    <tr style=\"text-align: right;\">\n",
              "      <th></th>\n",
              "      <th>Name Specialty</th>\n",
              "      <th>Unnamed: 0</th>\n",
              "      <th>Address</th>\n",
              "      <th>City</th>\n",
              "      <th>State</th>\n",
              "      <th>Zip</th>\n",
              "      <th>County</th>\n",
              "      <th>Phone</th>\n",
              "    </tr>\n",
              "  </thead>\n",
              "  <tbody>\n",
              "    <tr>\n",
              "      <th>1</th>\n",
              "      <td>University Medical Diagnostic Assoc</td>\n",
              "      <td>NaN</td>\n",
              "      <td>7301 Solution Center</td>\n",
              "      <td>Chicago</td>\n",
              "      <td>IL</td>\n",
              "      <td>60677.0</td>\n",
              "      <td>Cook</td>\n",
              "      <td>(800) 741-4250</td>\n",
              "    </tr>\n",
              "    <tr>\n",
              "      <th>3</th>\n",
              "      <td>University Urologists PC Inc.</td>\n",
              "      <td>NaN</td>\n",
              "      <td>7614 Solution Center</td>\n",
              "      <td>Chicago</td>\n",
              "      <td>IL</td>\n",
              "      <td>60677.0</td>\n",
              "      <td>Cook</td>\n",
              "      <td>(317) 962-4777</td>\n",
              "    </tr>\n",
              "    <tr>\n",
              "      <th>5</th>\n",
              "      <td>University Medical Diagnostic Assoc</td>\n",
              "      <td>NaN</td>\n",
              "      <td>7301 Solution Center</td>\n",
              "      <td>Chicago</td>\n",
              "      <td>IL</td>\n",
              "      <td>60677.0</td>\n",
              "      <td>Cook</td>\n",
              "      <td>(800) 741-4250</td>\n",
              "    </tr>\n",
              "    <tr>\n",
              "      <th>7</th>\n",
              "      <td>University Medical Diagnostic Assoc</td>\n",
              "      <td>NaN</td>\n",
              "      <td>7301 Solution Center</td>\n",
              "      <td>Chicago</td>\n",
              "      <td>IL</td>\n",
              "      <td>60677.0</td>\n",
              "      <td>Cook</td>\n",
              "      <td>(800) 741-4250</td>\n",
              "    </tr>\n",
              "    <tr>\n",
              "      <th>9</th>\n",
              "      <td>David Coleman PhD</td>\n",
              "      <td>NaN</td>\n",
              "      <td>114 N Walnut</td>\n",
              "      <td>Danville</td>\n",
              "      <td>IL</td>\n",
              "      <td>61832.0</td>\n",
              "      <td>Vermilion</td>\n",
              "      <td>(217) 474-1305</td>\n",
              "    </tr>\n",
              "    <tr>\n",
              "      <th>11</th>\n",
              "      <td>» Ferrell Hospital Family Practice</td>\n",
              "      <td>NaN</td>\n",
              "      <td>1306 Maple St</td>\n",
              "      <td>Eldorado</td>\n",
              "      <td>IL</td>\n",
              "      <td>62930.0</td>\n",
              "      <td>Saline</td>\n",
              "      <td>(618) 297-9665</td>\n",
              "    </tr>\n",
              "    <tr>\n",
              "      <th>12</th>\n",
              "      <td>Ferrell Hospital Community Foundation</td>\n",
              "      <td>NaN</td>\n",
              "      <td>1201 Pine St</td>\n",
              "      <td>Eldorado</td>\n",
              "      <td>IL</td>\n",
              "      <td>62930.0</td>\n",
              "      <td>Saline</td>\n",
              "      <td>(618) 273-3361</td>\n",
              "    </tr>\n",
              "    <tr>\n",
              "      <th>14</th>\n",
              "      <td>Deaconess Specialty Physicians, Inc</td>\n",
              "      <td>NaN</td>\n",
              "      <td>213 NW 10th St</td>\n",
              "      <td>Fairfield</td>\n",
              "      <td>IL</td>\n",
              "      <td>62837.0</td>\n",
              "      <td>Wayne</td>\n",
              "      <td>(812) 450-7899</td>\n",
              "    </tr>\n",
              "    <tr>\n",
              "      <th>15</th>\n",
              "      <td>Deaconess Specialty Physicians, Inc</td>\n",
              "      <td>NaN</td>\n",
              "      <td>209 NW 11th St</td>\n",
              "      <td>Fairfield</td>\n",
              "      <td>IL</td>\n",
              "      <td>62837.0</td>\n",
              "      <td>Wayne</td>\n",
              "      <td>(812) 450-7899</td>\n",
              "    </tr>\n",
              "    <tr>\n",
              "      <th>17</th>\n",
              "      <td>Wabash Orthopaedic Surgery and Sports Medicine</td>\n",
              "      <td>NaN</td>\n",
              "      <td>213 NW 10th St Ste D</td>\n",
              "      <td>Fairfield</td>\n",
              "      <td>IL</td>\n",
              "      <td>62837.0</td>\n",
              "      <td>Wayne</td>\n",
              "      <td>(618) 842-4180</td>\n",
              "    </tr>\n",
              "    <tr>\n",
              "      <th>19</th>\n",
              "      <td>Wabash Orthopaedic Surgery and Sports Medicine</td>\n",
              "      <td>NaN</td>\n",
              "      <td>213 NW 10th St Ste D</td>\n",
              "      <td>Fairfield</td>\n",
              "      <td>IL</td>\n",
              "      <td>62837.0</td>\n",
              "      <td>Wayne</td>\n",
              "      <td>(618) 842-4180</td>\n",
              "    </tr>\n",
              "    <tr>\n",
              "      <th>21</th>\n",
              "      <td>Deaconess Specialty Physicians, Inc</td>\n",
              "      <td>NaN</td>\n",
              "      <td>209 NW 11th St</td>\n",
              "      <td>Fairfield</td>\n",
              "      <td>IL</td>\n",
              "      <td>62837.0</td>\n",
              "      <td>Wayne</td>\n",
              "      <td>(812) 450-7899</td>\n",
              "    </tr>\n",
              "    <tr>\n",
              "      <th>23</th>\n",
              "      <td>Wabash General Hospital</td>\n",
              "      <td>NaN</td>\n",
              "      <td>209 NW 11th St</td>\n",
              "      <td>Fairfield</td>\n",
              "      <td>IL</td>\n",
              "      <td>62837.0</td>\n",
              "      <td>Wayne</td>\n",
              "      <td>(618) 707-4360</td>\n",
              "    </tr>\n",
              "    <tr>\n",
              "      <th>25</th>\n",
              "      <td>Deaconess Specialty Physicians, Inc</td>\n",
              "      <td>NaN</td>\n",
              "      <td>209 NW 11th St</td>\n",
              "      <td>Fairfield</td>\n",
              "      <td>IL</td>\n",
              "      <td>62837.0</td>\n",
              "      <td>Wayne</td>\n",
              "      <td>(812) 450-7899</td>\n",
              "    </tr>\n",
              "    <tr>\n",
              "      <th>26</th>\n",
              "      <td>Deaconess Specialty Physicians, Inc</td>\n",
              "      <td>NaN</td>\n",
              "      <td>213 NW 10th St</td>\n",
              "      <td>Fairfield</td>\n",
              "      <td>IL</td>\n",
              "      <td>62837.0</td>\n",
              "      <td>Wayne</td>\n",
              "      <td>(812) 450-7899</td>\n",
              "    </tr>\n",
              "    <tr>\n",
              "      <th>28</th>\n",
              "      <td>Wabash General Hospital</td>\n",
              "      <td>NaN</td>\n",
              "      <td>209 NW 11th St</td>\n",
              "      <td>Fairfield</td>\n",
              "      <td>IL</td>\n",
              "      <td>62837.0</td>\n",
              "      <td>Wayne</td>\n",
              "      <td>(618) 707-4360</td>\n",
              "    </tr>\n",
              "    <tr>\n",
              "      <th>30</th>\n",
              "      <td>Deaconess Specialty Physicians, Inc</td>\n",
              "      <td>NaN</td>\n",
              "      <td>209 NW 11th St</td>\n",
              "      <td>Fairfield</td>\n",
              "      <td>IL</td>\n",
              "      <td>62837.0</td>\n",
              "      <td>Wayne</td>\n",
              "      <td>(812) 450-7899</td>\n",
              "    </tr>\n",
              "    <tr>\n",
              "      <th>31</th>\n",
              "      <td>Deaconess Specialty Physicians, Inc</td>\n",
              "      <td>NaN</td>\n",
              "      <td>213 NW 10th St</td>\n",
              "      <td>Fairfield</td>\n",
              "      <td>IL</td>\n",
              "      <td>62837.0</td>\n",
              "      <td>Wayne</td>\n",
              "      <td>(812) 450-7899</td>\n",
              "    </tr>\n",
              "    <tr>\n",
              "      <th>33</th>\n",
              "      <td>Wabash Orthopaedic Surgery and Sports Medicine</td>\n",
              "      <td>NaN</td>\n",
              "      <td>213 NW 10th St Ste D</td>\n",
              "      <td>Fairfield</td>\n",
              "      <td>IL</td>\n",
              "      <td>62837.0</td>\n",
              "      <td>Wayne</td>\n",
              "      <td>(618) 842-4180</td>\n",
              "    </tr>\n",
              "    <tr>\n",
              "      <th>35</th>\n",
              "      <td>Deaconess Specialty Physicians, Inc</td>\n",
              "      <td>NaN</td>\n",
              "      <td>209 NW 11th St</td>\n",
              "      <td>Fairfield</td>\n",
              "      <td>IL</td>\n",
              "      <td>62837.0</td>\n",
              "      <td>Wayne</td>\n",
              "      <td>(812) 450-7899</td>\n",
              "    </tr>\n",
              "  </tbody>\n",
              "</table>\n",
              "</div>"
            ],
            "text/plain": [
              "                                    Name Specialty  ...           Phone\n",
              "1              University Medical Diagnostic Assoc  ...  (800) 741-4250\n",
              "3                    University Urologists PC Inc.  ...  (317) 962-4777\n",
              "5              University Medical Diagnostic Assoc  ...  (800) 741-4250\n",
              "7              University Medical Diagnostic Assoc  ...  (800) 741-4250\n",
              "9                                David Coleman PhD  ...  (217) 474-1305\n",
              "11              » Ferrell Hospital Family Practice  ...  (618) 297-9665\n",
              "12           Ferrell Hospital Community Foundation  ...  (618) 273-3361\n",
              "14             Deaconess Specialty Physicians, Inc  ...  (812) 450-7899\n",
              "15             Deaconess Specialty Physicians, Inc  ...  (812) 450-7899\n",
              "17  Wabash Orthopaedic Surgery and Sports Medicine  ...  (618) 842-4180\n",
              "19  Wabash Orthopaedic Surgery and Sports Medicine  ...  (618) 842-4180\n",
              "21             Deaconess Specialty Physicians, Inc  ...  (812) 450-7899\n",
              "23                         Wabash General Hospital  ...  (618) 707-4360\n",
              "25             Deaconess Specialty Physicians, Inc  ...  (812) 450-7899\n",
              "26             Deaconess Specialty Physicians, Inc  ...  (812) 450-7899\n",
              "28                         Wabash General Hospital  ...  (618) 707-4360\n",
              "30             Deaconess Specialty Physicians, Inc  ...  (812) 450-7899\n",
              "31             Deaconess Specialty Physicians, Inc  ...  (812) 450-7899\n",
              "33  Wabash Orthopaedic Surgery and Sports Medicine  ...  (618) 842-4180\n",
              "35             Deaconess Specialty Physicians, Inc  ...  (812) 450-7899\n",
              "\n",
              "[20 rows x 8 columns]"
            ]
          },
          "metadata": {
            "tags": []
          },
          "execution_count": 151
        }
      ]
    },
    {
      "cell_type": "code",
      "metadata": {
        "id": "qZ-Oa9t35Vcq"
      },
      "source": [
        ""
      ],
      "execution_count": null,
      "outputs": []
    },
    {
      "cell_type": "code",
      "metadata": {
        "id": "uwrzc1Oi5VXh"
      },
      "source": [
        ""
      ],
      "execution_count": null,
      "outputs": []
    },
    {
      "cell_type": "code",
      "metadata": {
        "id": "FLttmjkh5VPh"
      },
      "source": [
        ""
      ],
      "execution_count": null,
      "outputs": []
    },
    {
      "cell_type": "code",
      "metadata": {
        "id": "XxH1g9bbbChV"
      },
      "source": [
        "for i in inds:\r\n",
        "  df1 = df1.append(df[i])"
      ],
      "execution_count": null,
      "outputs": []
    },
    {
      "cell_type": "code",
      "metadata": {
        "id": "XfPmyl_AYxlS"
      },
      "source": [
        "if ''.join(df[i].columns) == 'Name SpecialtyUnnamed: 0AddressCityStateZipCountyPhone':\r\n",
        "    cols1[i] = ''.join(df[i].columns)"
      ],
      "execution_count": null,
      "outputs": []
    },
    {
      "cell_type": "code",
      "metadata": {
        "colab": {
          "base_uri": "https://localhost:8080/"
        },
        "id": "tk7yh6-vQvDI",
        "outputId": "cee809e5-3ec0-47b7-97ea-ba97b8b0d175"
      },
      "source": [
        "df[1].info()"
      ],
      "execution_count": 133,
      "outputs": [
        {
          "output_type": "stream",
          "text": [
            "<class 'pandas.core.frame.DataFrame'>\n",
            "RangeIndex: 57 entries, 0 to 56\n",
            "Data columns (total 8 columns):\n",
            " #   Column          Non-Null Count  Dtype  \n",
            "---  ------          --------------  -----  \n",
            " 0   Name Specialty  57 non-null     object \n",
            " 1   Unnamed: 0      0 non-null      float64\n",
            " 2   Address         33 non-null     object \n",
            " 3   City            33 non-null     object \n",
            " 4   State           33 non-null     object \n",
            " 5   Zip             33 non-null     float64\n",
            " 6   County          33 non-null     object \n",
            " 7   Phone           33 non-null     object \n",
            "dtypes: float64(2), object(6)\n",
            "memory usage: 3.7+ KB\n"
          ],
          "name": "stdout"
        }
      ]
    },
    {
      "cell_type": "code",
      "metadata": {
        "id": "n0g5NuNVTXZe"
      },
      "source": [
        "bonus_features = {\"Age Restricted\": \"†\", \r\n",
        "                  \"Not Accepting New Patients\": \"*\", \r\n",
        "                  \"Does not provide inpatient coverage at Parkview Hospital\": \"Ø\",\r\n",
        "                  \"Primary Location\": \"»\"}"
      ],
      "execution_count": 39,
      "outputs": []
    },
    {
      "cell_type": "code",
      "metadata": {
        "id": "57A3ItwEbpo-"
      },
      "source": [
        ""
      ],
      "execution_count": null,
      "outputs": []
    },
    {
      "cell_type": "code",
      "metadata": {
        "id": "nw8fTA7Ebpmn"
      },
      "source": [
        ""
      ],
      "execution_count": null,
      "outputs": []
    },
    {
      "cell_type": "code",
      "metadata": {
        "id": "i3mCLfgybpjt"
      },
      "source": [
        ""
      ],
      "execution_count": null,
      "outputs": []
    },
    {
      "cell_type": "code",
      "metadata": {
        "id": "LMgEuqnpbphd"
      },
      "source": [
        ""
      ],
      "execution_count": null,
      "outputs": []
    },
    {
      "cell_type": "code",
      "metadata": {
        "id": "Gk0f7F3Bbpek"
      },
      "source": [
        ""
      ],
      "execution_count": null,
      "outputs": []
    },
    {
      "cell_type": "code",
      "metadata": {
        "id": "j9h6cMzdbpbs"
      },
      "source": [
        ""
      ],
      "execution_count": null,
      "outputs": []
    },
    {
      "cell_type": "code",
      "metadata": {
        "id": "HSf_Iod7bpY_"
      },
      "source": [
        ""
      ],
      "execution_count": null,
      "outputs": []
    },
    {
      "cell_type": "code",
      "metadata": {
        "id": "ABEBFGfobpWK"
      },
      "source": [
        ""
      ],
      "execution_count": null,
      "outputs": []
    },
    {
      "cell_type": "code",
      "metadata": {
        "id": "iGWJcxrJbpTW"
      },
      "source": [
        ""
      ],
      "execution_count": null,
      "outputs": []
    },
    {
      "cell_type": "code",
      "metadata": {
        "id": "P-TdgfXIbpQl"
      },
      "source": [
        ""
      ],
      "execution_count": null,
      "outputs": []
    },
    {
      "cell_type": "code",
      "metadata": {
        "id": "YN94B9CXbpNt"
      },
      "source": [
        ""
      ],
      "execution_count": null,
      "outputs": []
    },
    {
      "cell_type": "code",
      "metadata": {
        "id": "GzagSlEsbpLF"
      },
      "source": [
        ""
      ],
      "execution_count": null,
      "outputs": []
    },
    {
      "cell_type": "markdown",
      "metadata": {
        "id": "5wenFe97bqrn"
      },
      "source": [
        "# This part is scratch codes"
      ]
    },
    {
      "cell_type": "code",
      "metadata": {
        "id": "RPxnOsIqZG_8"
      },
      "source": [
        "df_zero = df[0]"
      ],
      "execution_count": 50,
      "outputs": []
    },
    {
      "cell_type": "code",
      "metadata": {
        "id": "IsrCCPHwZMtb"
      },
      "source": [
        "for column, row in dfx.iterrows():\r\n",
        "  print(row.values)"
      ],
      "execution_count": null,
      "outputs": []
    },
    {
      "cell_type": "code",
      "metadata": {
        "id": "qNSF86tJsByC"
      },
      "source": [
        "abc = ['» Midwest Community Health Associates', '725 S Shoop Ave' 'Wauseon', 'OH', 43567.0, 'Fulton', '(419) 335-0215']"
      ],
      "execution_count": 95,
      "outputs": []
    },
    {
      "cell_type": "code",
      "metadata": {
        "colab": {
          "base_uri": "https://localhost:8080/",
          "height": 164
        },
        "id": "s7yK37Bqsre4",
        "outputId": "0afd611c-ad72-403b-aeb1-6971f21e255f"
      },
      "source": [
        "abc[0].contains('»')"
      ],
      "execution_count": 98,
      "outputs": [
        {
          "output_type": "error",
          "ename": "AttributeError",
          "evalue": "ignored",
          "traceback": [
            "\u001b[0;31m---------------------------------------------------------------------------\u001b[0m",
            "\u001b[0;31mAttributeError\u001b[0m                            Traceback (most recent call last)",
            "\u001b[0;32m<ipython-input-98-fe8578ecfddd>\u001b[0m in \u001b[0;36m<module>\u001b[0;34m()\u001b[0m\n\u001b[0;32m----> 1\u001b[0;31m \u001b[0mabc\u001b[0m\u001b[0;34m[\u001b[0m\u001b[0;36m0\u001b[0m\u001b[0;34m]\u001b[0m\u001b[0;34m.\u001b[0m\u001b[0mcontains\u001b[0m\u001b[0;34m(\u001b[0m\u001b[0;34m'»'\u001b[0m\u001b[0;34m)\u001b[0m\u001b[0;34m\u001b[0m\u001b[0;34m\u001b[0m\u001b[0m\n\u001b[0m",
            "\u001b[0;31mAttributeError\u001b[0m: 'str' object has no attribute 'contains'"
          ]
        }
      ]
    },
    {
      "cell_type": "code",
      "metadata": {
        "colab": {
          "base_uri": "https://localhost:8080/"
        },
        "id": "W78MrUGMui0W",
        "outputId": "e81833e8-56b7-49c7-825e-72891009ca40"
      },
      "source": [
        "dfx.loc[0].values"
      ],
      "execution_count": 106,
      "outputs": [
        {
          "output_type": "execute_result",
          "data": {
            "text/plain": [
              "array(['Doshi, Simit M NEP', nan, nan, nan, nan, nan, nan, nan, nan, nan,\n",
              "       nan, nan, nan, nan, nan, nan, nan, nan, nan], dtype=object)"
            ]
          },
          "metadata": {
            "tags": []
          },
          "execution_count": 106
        }
      ]
    },
    {
      "cell_type": "code",
      "metadata": {
        "colab": {
          "base_uri": "https://localhost:8080/",
          "height": 232
        },
        "id": "vYPRkkZMu91x",
        "outputId": "f896aca2-f530-4cf2-d5ea-0a398c8afd3f"
      },
      "source": [
        "print(len(dfx.iloc[0,:]))\r\n",
        "for i in range(20):\r\n",
        "  for j in range(len(dfx.iloc[0,:])):\r\n",
        "    if dfx.iloc[i,:].values[j].str.find('i'):\r\n",
        "      print(True)"
      ],
      "execution_count": 122,
      "outputs": [
        {
          "output_type": "stream",
          "text": [
            "19\n"
          ],
          "name": "stdout"
        },
        {
          "output_type": "error",
          "ename": "AttributeError",
          "evalue": "ignored",
          "traceback": [
            "\u001b[0;31m---------------------------------------------------------------------------\u001b[0m",
            "\u001b[0;31mAttributeError\u001b[0m                            Traceback (most recent call last)",
            "\u001b[0;32m<ipython-input-122-49f2fb36aa78>\u001b[0m in \u001b[0;36m<module>\u001b[0;34m()\u001b[0m\n\u001b[1;32m      2\u001b[0m \u001b[0;32mfor\u001b[0m \u001b[0mi\u001b[0m \u001b[0;32min\u001b[0m \u001b[0mrange\u001b[0m\u001b[0;34m(\u001b[0m\u001b[0;36m20\u001b[0m\u001b[0;34m)\u001b[0m\u001b[0;34m:\u001b[0m\u001b[0;34m\u001b[0m\u001b[0;34m\u001b[0m\u001b[0m\n\u001b[1;32m      3\u001b[0m   \u001b[0;32mfor\u001b[0m \u001b[0mj\u001b[0m \u001b[0;32min\u001b[0m \u001b[0mrange\u001b[0m\u001b[0;34m(\u001b[0m\u001b[0mlen\u001b[0m\u001b[0;34m(\u001b[0m\u001b[0mdfx\u001b[0m\u001b[0;34m.\u001b[0m\u001b[0miloc\u001b[0m\u001b[0;34m[\u001b[0m\u001b[0;36m0\u001b[0m\u001b[0;34m,\u001b[0m\u001b[0;34m:\u001b[0m\u001b[0;34m]\u001b[0m\u001b[0;34m)\u001b[0m\u001b[0;34m)\u001b[0m\u001b[0;34m:\u001b[0m\u001b[0;34m\u001b[0m\u001b[0;34m\u001b[0m\u001b[0m\n\u001b[0;32m----> 4\u001b[0;31m     \u001b[0;32mif\u001b[0m \u001b[0mdfx\u001b[0m\u001b[0;34m.\u001b[0m\u001b[0miloc\u001b[0m\u001b[0;34m[\u001b[0m\u001b[0mi\u001b[0m\u001b[0;34m,\u001b[0m\u001b[0;34m:\u001b[0m\u001b[0;34m]\u001b[0m\u001b[0;34m.\u001b[0m\u001b[0mvalues\u001b[0m\u001b[0;34m[\u001b[0m\u001b[0mj\u001b[0m\u001b[0;34m]\u001b[0m\u001b[0;34m.\u001b[0m\u001b[0mstr\u001b[0m\u001b[0;34m.\u001b[0m\u001b[0mfind\u001b[0m\u001b[0;34m(\u001b[0m\u001b[0;34m'i'\u001b[0m\u001b[0;34m)\u001b[0m\u001b[0;34m:\u001b[0m\u001b[0;34m\u001b[0m\u001b[0;34m\u001b[0m\u001b[0m\n\u001b[0m\u001b[1;32m      5\u001b[0m       \u001b[0mprint\u001b[0m\u001b[0;34m(\u001b[0m\u001b[0;32mTrue\u001b[0m\u001b[0;34m)\u001b[0m\u001b[0;34m\u001b[0m\u001b[0;34m\u001b[0m\u001b[0m\n",
            "\u001b[0;31mAttributeError\u001b[0m: 'str' object has no attribute 'str'"
          ]
        }
      ]
    },
    {
      "cell_type": "code",
      "metadata": {
        "colab": {
          "base_uri": "https://localhost:8080/",
          "height": 164
        },
        "id": "pYGqXForvMPH",
        "outputId": "25db290b-6784-4414-b9d8-28568e84dfd9"
      },
      "source": [
        "dfx.iloc[i,:].values.join()"
      ],
      "execution_count": 126,
      "outputs": [
        {
          "output_type": "error",
          "ename": "AttributeError",
          "evalue": "ignored",
          "traceback": [
            "\u001b[0;31m---------------------------------------------------------------------------\u001b[0m",
            "\u001b[0;31mAttributeError\u001b[0m                            Traceback (most recent call last)",
            "\u001b[0;32m<ipython-input-126-7598916c1275>\u001b[0m in \u001b[0;36m<module>\u001b[0;34m()\u001b[0m\n\u001b[0;32m----> 1\u001b[0;31m \u001b[0mdfx\u001b[0m\u001b[0;34m.\u001b[0m\u001b[0miloc\u001b[0m\u001b[0;34m[\u001b[0m\u001b[0mi\u001b[0m\u001b[0;34m,\u001b[0m\u001b[0;34m:\u001b[0m\u001b[0;34m]\u001b[0m\u001b[0;34m.\u001b[0m\u001b[0mvalues\u001b[0m\u001b[0;34m.\u001b[0m\u001b[0mjoin\u001b[0m\u001b[0;34m(\u001b[0m\u001b[0;34m)\u001b[0m\u001b[0;34m\u001b[0m\u001b[0;34m\u001b[0m\u001b[0m\n\u001b[0m",
            "\u001b[0;31mAttributeError\u001b[0m: 'numpy.ndarray' object has no attribute 'join'"
          ]
        }
      ]
    },
    {
      "cell_type": "code",
      "metadata": {
        "colab": {
          "base_uri": "https://localhost:8080/"
        },
        "id": "bRhQfGwSysXy",
        "outputId": "38d660e7-56d9-4e64-f989-ca874c724ee9"
      },
      "source": [
        "dfx.columns"
      ],
      "execution_count": 129,
      "outputs": [
        {
          "output_type": "execute_result",
          "data": {
            "text/plain": [
              "Index(['Name Specialty', 'Unnamed: 0', 'Address', 'City', 'State', 'Zip',\n",
              "       'County', 'Phone', 'Name', 'Specialty', 'Unnamed: 1', 'Unnamed: 2',\n",
              "       'Address City', 'Specialty Address', 'Unnamed: 3', 'Age Restricted',\n",
              "       'Not Accepting New Patients',\n",
              "       'Does not provide inpatient coverage at Parkview Hospital',\n",
              "       'Primary Location'],\n",
              "      dtype='object')"
            ]
          },
          "metadata": {
            "tags": []
          },
          "execution_count": 129
        }
      ]
    },
    {
      "cell_type": "code",
      "metadata": {
        "id": "qcCRQd5Jz-4U"
      },
      "source": [
        "s1dfx =dfx[['Name Specialty', 'Unnamed: 0', \r\n",
        "        'Name', 'Specialty', 'Unnamed: 1', 'Unnamed: 2',\r\n",
        "        'Unnamed: 3' ]]"
      ],
      "execution_count": 131,
      "outputs": []
    },
    {
      "cell_type": "code",
      "metadata": {
        "colab": {
          "base_uri": "https://localhost:8080/"
        },
        "id": "xoJd_AJX0ch2",
        "outputId": "394a6942-2293-4c71-e91d-dc59c0e02e6b"
      },
      "source": [
        "s1dfx.info()"
      ],
      "execution_count": 133,
      "outputs": [
        {
          "output_type": "stream",
          "text": [
            "<class 'pandas.core.frame.DataFrame'>\n",
            "RangeIndex: 67814 entries, 0 to 67813\n",
            "Data columns (total 7 columns):\n",
            " #   Column          Non-Null Count  Dtype  \n",
            "---  ------          --------------  -----  \n",
            " 0   Name Specialty  55058 non-null  object \n",
            " 1   Unnamed: 0      1494 non-null   object \n",
            " 2   Name            11658 non-null  object \n",
            " 3   Specialty       5698 non-null   object \n",
            " 4   Unnamed: 1      88 non-null     object \n",
            " 5   Unnamed: 2      0 non-null      float64\n",
            " 6   Unnamed: 3      0 non-null      float64\n",
            "dtypes: float64(2), object(5)\n",
            "memory usage: 3.6+ MB\n"
          ],
          "name": "stdout"
        }
      ]
    },
    {
      "cell_type": "code",
      "metadata": {
        "colab": {
          "base_uri": "https://localhost:8080/"
        },
        "id": "etMrw7lG0lLq",
        "outputId": "2934ed5e-38e7-4781-9849-6a399e2c9ffb"
      },
      "source": [
        "s1dfx['Specialty'].value_counts()"
      ],
      "execution_count": 136,
      "outputs": [
        {
          "output_type": "execute_result",
          "data": {
            "text/plain": [
              "NPR           1279\n",
              "FMP            602\n",
              "CARD           363\n",
              "PA             306\n",
              "SW             225\n",
              "              ... \n",
              "PEDPC            1\n",
              "LMHC, EMDR       1\n",
              "PEDPM            1\n",
              "PEDDB            1\n",
              "ORS, HAND        1\n",
              "Name: Specialty, Length: 118, dtype: int64"
            ]
          },
          "metadata": {
            "tags": []
          },
          "execution_count": 136
        }
      ]
    },
    {
      "cell_type": "code",
      "metadata": {
        "id": "DEjQyULl0wH5"
      },
      "source": [
        "dfx[dfx['Name Specialty'].str.contains('»') | dfx['Name Specialty'].isna()]"
      ],
      "execution_count": null,
      "outputs": []
    },
    {
      "cell_type": "code",
      "metadata": {
        "colab": {
          "base_uri": "https://localhost:8080/"
        },
        "id": "ObiDhEZq1BLS",
        "outputId": "ef1f8e7a-b3e3-4da7-c705-bb64d33e3609"
      },
      "source": [
        "dfx['Name Specialty'].isna().sum()"
      ],
      "execution_count": 143,
      "outputs": [
        {
          "output_type": "execute_result",
          "data": {
            "text/plain": [
              "12756"
            ]
          },
          "metadata": {
            "tags": []
          },
          "execution_count": 143
        }
      ]
    },
    {
      "cell_type": "code",
      "metadata": {
        "colab": {
          "base_uri": "https://localhost:8080/"
        },
        "id": "-akRXP3f4Jih",
        "outputId": "043401f8-62c5-498c-fa2e-ceb68b8f0eea"
      },
      "source": [
        "dfx['Name Specialty'].str.contains(\"/*\").sum()"
      ],
      "execution_count": 169,
      "outputs": [
        {
          "output_type": "execute_result",
          "data": {
            "text/plain": [
              "55058"
            ]
          },
          "metadata": {
            "tags": []
          },
          "execution_count": 169
        }
      ]
    },
    {
      "cell_type": "code",
      "metadata": {
        "colab": {
          "base_uri": "https://localhost:8080/"
        },
        "id": "FhfSkhz59Q3p",
        "outputId": "a34e1cc3-694e-4ec2-c955-dc56024ddcb8"
      },
      "source": [
        "bonus_features"
      ],
      "execution_count": 152,
      "outputs": [
        {
          "output_type": "execute_result",
          "data": {
            "text/plain": [
              "{'Age Restricted': '†',\n",
              " 'Does not provide inpatient coverage at Parkview Hospital': 'Ø',\n",
              " 'Not Accepting New Patients': '*',\n",
              " 'Primary Location': '»'}"
            ]
          },
          "metadata": {
            "tags": []
          },
          "execution_count": 152
        }
      ]
    },
    {
      "cell_type": "code",
      "metadata": {
        "colab": {
          "base_uri": "https://localhost:8080/",
          "height": 164
        },
        "id": "JzhIASyA-PS_",
        "outputId": "a69c6984-b865-49dd-dbd6-6ec272238bde"
      },
      "source": [
        "len(dfx)"
      ],
      "execution_count": 1,
      "outputs": [
        {
          "output_type": "error",
          "ename": "NameError",
          "evalue": "ignored",
          "traceback": [
            "\u001b[0;31m---------------------------------------------------------------------------\u001b[0m",
            "\u001b[0;31mNameError\u001b[0m                                 Traceback (most recent call last)",
            "\u001b[0;32m<ipython-input-1-0fbe50f0805b>\u001b[0m in \u001b[0;36m<module>\u001b[0;34m()\u001b[0m\n\u001b[0;32m----> 1\u001b[0;31m \u001b[0mlen\u001b[0m\u001b[0;34m(\u001b[0m\u001b[0mdfx\u001b[0m\u001b[0;34m)\u001b[0m\u001b[0;34m\u001b[0m\u001b[0;34m\u001b[0m\u001b[0m\n\u001b[0m",
            "\u001b[0;31mNameError\u001b[0m: name 'dfx' is not defined"
          ]
        }
      ]
    },
    {
      "cell_type": "code",
      "metadata": {
        "id": "nJlj9L2S_cgJ"
      },
      "source": [
        ""
      ],
      "execution_count": null,
      "outputs": []
    }
  ]
}